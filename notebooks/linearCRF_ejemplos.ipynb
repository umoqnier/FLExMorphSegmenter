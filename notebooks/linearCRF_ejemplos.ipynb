{
 "cells": [
  {
   "cell_type": "markdown",
   "metadata": {},
   "source": [
    "## Ejemplos del Linear Chain CRF\n",
    "\n",
    "### Nombre\n",
    "\n",
    "* linearCRF_l2_zero_50_0.1_0_k_10.crfsuite\n",
    "\n",
    "### Parametros\n",
    "\n",
    "* l1 = 0.1\n",
    "* l2 = 0\n",
    "* Precisión general = 0.9516\n",
    "* Max_Iter = 50"
   ]
  },
  {
   "cell_type": "code",
   "execution_count": 1,
   "metadata": {},
   "outputs": [],
   "source": [
    "import os\n",
    "import pycrfsuite\n",
    "import sys  \n",
    "import random\n",
    "sys.path.insert(0, '../')\n",
    "from utils import get_corpus, WordsToLetter, extractLabels, extractTokens\n",
    "model = \"linearCRF_l2_zero_50_0.1_0_k_10.crfsuite\""
   ]
  },
  {
   "cell_type": "code",
   "execution_count": 2,
   "metadata": {},
   "outputs": [
    {
     "name": "stdout",
     "output_type": "stream",
     "text": [
      "../models/linearChainCRFs/tsu_linearCRF_l2_zero_50_0.1_0_k_10.crfsuite\n"
     ]
    },
    {
     "data": {
      "text/plain": [
       "<contextlib.closing at 0x7f2b80446e50>"
      ]
     },
     "execution_count": 2,
     "metadata": {},
     "output_type": "execute_result"
    }
   ],
   "source": [
    "model_path = os.path.join(\"../models/linearChainCRFs\",\n",
    "                          \"tsu_\" + model)\n",
    "print(model_path)\n",
    "tagger = pycrfsuite.Tagger()\n",
    "# Cargando modelos preentrenados\n",
    "tagger.open(model_path)"
   ]
  },
  {
   "cell_type": "code",
   "execution_count": 3,
   "metadata": {},
   "outputs": [],
   "source": [
    "# Obteniendo corpus para pruebas\n",
    "corpus = get_corpus('corpus_otomi_mod', '../corpora/') + get_corpus('corpus_hard', '../corpora/')\n",
    "letter_corpus = WordsToLetter(corpus)"
   ]
  },
  {
   "cell_type": "code",
   "execution_count": 4,
   "metadata": {},
   "outputs": [],
   "source": [
    "# funciones auxiliares\n",
    "def obtener_palabras(frases):\n",
    "    palabras = []\n",
    "    for frase in frases:\n",
    "        chunks = [palabra[0] for palabra in frase[:-1]]\n",
    "        palabras.append(\"\".join(chunks))\n",
    "    return palabras\n",
    "\n",
    "def reporte(prediction_tags, real_tags, example):\n",
    "    print(\"Letra | Predicción | Real | Es correcto?\")\n",
    "    for prediction, real, letter in zip(prediction_tags, real_tags, extractTokens(example)):\n",
    "        print(f\"{letter} | {prediction} | {real} | {True if prediction == real else False}\")\n",
    "        \n",
    "def accuracy_score(y_test, y_pred):\n",
    "    right, total = 0, 0\n",
    "    for real, prediction in zip(y_test, y_pred):\n",
    "        if real == prediction:\n",
    "            right += 1\n",
    "    return right / len(y_test)"
   ]
  },
  {
   "cell_type": "code",
   "execution_count": 5,
   "metadata": {},
   "outputs": [],
   "source": [
    "def feature_functions_maker(sent):\n",
    "    ''' Reglas que configuran las feature functions para entrenamiento\n",
    "\n",
    "    :param sent: Data as `[[[[[letter, POS, BIO-label],...],words],sents]]`\n",
    "    :type: list\n",
    "    :return: list of words with characters as features list:\n",
    "        [[[[[letterfeatures],POS,BIO-label],letters],words]]\n",
    "    :rtype: list\n",
    "    '''\n",
    "\n",
    "    featurelist = []\n",
    "    senlen = len(sent)\n",
    "    # each word in a sentence\n",
    "    for i in range(senlen):\n",
    "        word = sent[i]\n",
    "        wordlen = len(word)\n",
    "        lettersequence = ''\n",
    "        # each letter in a word\n",
    "        for j in range(wordlen):\n",
    "            letter = word[j][0]\n",
    "            # gathering previous letters\n",
    "            lettersequence += letter\n",
    "            # ignore digits\n",
    "            if not letter.isdigit():\n",
    "                features = [\n",
    "                    'bias',\n",
    "                    'letterLowercase=' + letter.lower(),\n",
    "                ]\n",
    "                # Position of word in sentence\n",
    "                if i == senlen -1:\n",
    "                    features.append(\"EOS\")\n",
    "                else:\n",
    "                    features.append(\"BOS\")\n",
    "\n",
    "                # Pos tag sequence (Don't get pos tag if sentence is 1 word long)\n",
    "                if i > 0 and senlen > 1:\n",
    "                    features.append('prevpostag=' + sent[i-1][0][1])\n",
    "                    if i != senlen-1:\n",
    "                        features.append('nxtpostag=' + sent[i+1][0][1])\n",
    "\n",
    "                # Position of letter in word\n",
    "                if j == 0:\n",
    "                    features.append('BOW')\n",
    "                elif j == wordlen-1:\n",
    "                    features.append('EOW')\n",
    "                else:\n",
    "                    features.append('letterposition=-%s' % str(wordlen-1-j))\n",
    "\n",
    "                # Letter sequences before letter\n",
    "                if j >= 4:\n",
    "                    features.append('prev4letters=' + lettersequence[j-4:j].lower() + '>')\n",
    "                if j >= 3:\n",
    "                    features.append('prev3letters=' + lettersequence[j-3:j].lower() + '>')\n",
    "                if j >= 2:\n",
    "                    features.append('prev2letters=' + lettersequence[j-2:j].lower() + '>')\n",
    "                if j >= 1:\n",
    "                    features.append('prevletter=' + lettersequence[j-1:j].lower() + '>')\n",
    "\n",
    "                # letter sequences after letter\n",
    "                if j <= wordlen-2:\n",
    "                    nxtlets = word[j+1][0]\n",
    "                    features.append('nxtletter=<' + nxtlets.lower())\n",
    "                if j <= wordlen-3:\n",
    "                    nxtlets += word[j+2][0]\n",
    "                    features.append('nxt2letters=<' + nxtlets.lower())\n",
    "                if j <= wordlen-4:\n",
    "                    nxtlets += word[j+3][0]\n",
    "                    features.append('nxt3letters=<' + nxtlets.lower())\n",
    "                if j <= wordlen-5:\n",
    "                    nxtlets += word[j+4][0]\n",
    "                    features.append('nxt4letters=<' + nxtlets.lower())\n",
    "\n",
    "            # Add encoding for pysrfsuite\n",
    "            featurelist.append([f.encode('utf-8') for f in features])\n",
    "    return featurelist"
   ]
  },
  {
   "cell_type": "markdown",
   "metadata": {},
   "source": [
    "## Los peores ejemplos"
   ]
  },
  {
   "cell_type": "code",
   "execution_count": 6,
   "metadata": {},
   "outputs": [],
   "source": [
    "peores = []\n",
    "for i, example in enumerate(letter_corpus):\n",
    "    feature_functions = feature_functions_maker(example)    \n",
    "    prediction_tags = tagger.tag(feature_functions)      \n",
    "    real_tags = extractLabels(example, 1)\n",
    "    accuracy = accuracy_score(real_tags, prediction_tags)\n",
    "    if accuracy <= 0.8:\n",
    "        peores.append((i, accuracy))\n",
    "peores = sorted(peores, key=lambda t: t[1])"
   ]
  },
  {
   "cell_type": "code",
   "execution_count": 7,
   "metadata": {},
   "outputs": [
    {
     "name": "stdout",
     "output_type": "stream",
     "text": [
      "--------------------------------------------------\n",
      "Ejemplo 1 de 5 | Frase: \"nuní\" | Precisión: 0.0\n",
      "Letra | Predicción | Real | Es correcto?\n",
      "n | B-stem | B-det.dem | False\n",
      "u | I-stem | I-det.dem | False\n",
      "n | I-stem | I-det.dem | False\n",
      "í | I-stem | I-det.dem | False\n",
      "--------------------------------------------------\n",
      "Ejemplo 2 de 5 | Frase: \"padú\" | Precisión: 0.25\n",
      "Letra | Predicción | Real | Es correcto?\n",
      "p | B-stem | B-3.prf | False\n",
      "a | I-stem | I-3.prf | False\n",
      "d | I-stem | B-stem | False\n",
      "ú | I-stem | I-stem | True\n",
      "--------------------------------------------------\n",
      "Ejemplo 3 de 5 | Frase: \"ximo\" | Precisión: 0.25\n",
      "Letra | Predicción | Real | Es correcto?\n",
      "x | B-stem | B-3.prf | False\n",
      "i | I-stem | I-3.prf | False\n",
      "m | I-stem | B-stem | False\n",
      "o | I-stem | I-stem | True\n",
      "--------------------------------------------------\n",
      "Ejemplo 4 de 5 | Frase: \"xinú\" | Precisión: 0.25\n",
      "Letra | Predicción | Real | Es correcto?\n",
      "x | B-stem | B-3.prf | False\n",
      "i | I-stem | I-3.prf | False\n",
      "n | I-stem | B-stem | False\n",
      "ú | I-stem | I-stem | True\n",
      "--------------------------------------------------\n",
      "Ejemplo 5 de 5 | Frase: \"mihtsú\" | Precisión: 0.3333333333333333\n",
      "Letra | Predicción | Real | Es correcto?\n",
      "m | B-stem | B-psd | False\n",
      "i | I-stem | B-3.icp | False\n",
      "h | I-stem | B-lig | False\n",
      "t | I-stem | B-stem | False\n",
      "s | I-stem | I-stem | True\n",
      "ú | I-stem | I-stem | True\n"
     ]
    }
   ],
   "source": [
    "# Tomamos los 5 peores\n",
    "top = peores[:5]\n",
    "for i, data in enumerate(top):\n",
    "    print(\"-\"*50)\n",
    "    index = data[0]\n",
    "    palabras = obtener_palabras(corpus[index])\n",
    "    example = letter_corpus[index]\n",
    "    features = feature_functions_maker(example)\n",
    "    prediction_tags = tagger.tag(features)\n",
    "    real_tags = extractLabels(example, 1)\n",
    "    print(f\"Ejemplo {i+1} de 5 | Frase: \\\"{' '.join(palabras)}\\\" | Precisión: {data[1]}\")\n",
    "    reporte(prediction_tags, real_tags, example)"
   ]
  },
  {
   "cell_type": "markdown",
   "metadata": {},
   "source": [
    "### Los mejores\n",
    "\n",
    "Como de estos hay muchos vamos a tomar 3 al azar"
   ]
  },
  {
   "cell_type": "code",
   "execution_count": 8,
   "metadata": {},
   "outputs": [
    {
     "name": "stdout",
     "output_type": "stream",
     "text": [
      "--------------------------------------------------\n",
      "Ejemplo 1 de 3 | Frase: \"mbrιndμ'μ mäñá\" | Precisión: 1.0\n",
      "Letra | Predicción | Real | Es correcto?\n",
      "m | B-psd | B-psd | True\n",
      "b | B-lig | B-lig | True\n",
      "r | B-3.cnt | B-3.cnt | True\n",
      "ι | I-3.cnt | I-3.cnt | True\n",
      "n | B-muy | B-muy | True\n",
      "d | I-muy | I-muy | True\n",
      "μ | I-muy | I-muy | True\n",
      "' | B-stem | B-stem | True\n",
      "μ | I-stem | I-stem | True\n",
      "m | B-1.pss | B-1.pss | True\n",
      "ä | I-1.pss | I-1.pss | True\n",
      "ñ | B-stem | B-stem | True\n",
      "á | I-stem | I-stem | True\n",
      "--------------------------------------------------\n",
      "Ejemplo 2 de 3 | Frase: \"gogwádi gohμté\" | Precisión: 1.0\n",
      "Letra | Predicción | Real | Es correcto?\n",
      "g | B-1.pot | B-1.pot | True\n",
      "o | I-1.pot | I-1.pot | True\n",
      "g | B-stem | B-stem | True\n",
      "w | I-stem | I-stem | True\n",
      "á | I-stem | I-stem | True\n",
      "d | I-stem | I-stem | True\n",
      "i | I-stem | I-stem | True\n",
      "g | B-1.pot | B-1.pot | True\n",
      "o | I-1.pot | I-1.pot | True\n",
      "h | B-stem | B-stem | True\n",
      "μ | I-stem | I-stem | True\n",
      "t | I-stem | I-stem | True\n",
      "é | I-stem | I-stem | True\n",
      "--------------------------------------------------\n",
      "Ejemplo 3 de 3 | Frase: \"tsátsíwíyι'wi\" | Precisión: 1.0\n",
      "Letra | Predicción | Real | Es correcto?\n",
      "t | B-prt | B-prt | True\n",
      "s | I-prt | I-prt | True\n",
      "á | I-prt | I-prt | True\n",
      "t | B-stem | B-stem | True\n",
      "s | I-stem | I-stem | True\n",
      "í | I-stem | I-stem | True\n",
      "w | B-dual | B-dual | True\n",
      "í | I-dual | I-dual | True\n",
      "y | B-lim | B-lim | True\n",
      "ι | I-lim | I-lim | True\n",
      "' | I-lim | I-lim | True\n",
      "w | B-prag | B-prag | True\n",
      "i | I-prag | I-prag | True\n"
     ]
    }
   ],
   "source": [
    "flag = 0\n",
    "while flag != 3:\n",
    "    print(\"-\"*50)\n",
    "    index = random.randint(0, len(letter_corpus))\n",
    "    palabras = obtener_palabras(corpus[index])\n",
    "    example = letter_corpus[index]\n",
    "    features = feature_functions_maker(example)\n",
    "    prediction_tags = tagger.tag(features)\n",
    "    real_tags = extractLabels(example, 1)\n",
    "    accuracy = accuracy_score(real_tags, prediction_tags)\n",
    "    if accuracy >= 0.99:\n",
    "        print(f\"Ejemplo {flag + 1} de 3 | Frase: \\\"{' '.join(palabras)}\\\" | Precisión: {accuracy}\")\n",
    "        reporte(prediction_tags, real_tags, example)\n",
    "        flag += 1"
   ]
  }
 ],
 "metadata": {
  "kernelspec": {
   "display_name": "Tesis Kernel",
   "language": "python",
   "name": "tesis"
  },
  "language_info": {
   "codemirror_mode": {
    "name": "ipython",
    "version": 3
   },
   "file_extension": ".py",
   "mimetype": "text/x-python",
   "name": "python",
   "nbconvert_exporter": "python",
   "pygments_lexer": "ipython3",
   "version": "3.7.4"
  }
 },
 "nbformat": 4,
 "nbformat_minor": 4
}
