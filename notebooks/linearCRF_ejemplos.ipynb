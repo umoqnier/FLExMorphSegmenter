{
 "cells": [
  {
   "cell_type": "markdown",
   "metadata": {},
   "source": [
    "# Ejemplos del modelo `linearCRF_reg_k_3.crf`\n",
    "\n",
    "### Parametros\n",
    "\n",
    "* l1 = 0.1\n",
    "* l2 = 0.001\n",
    "* Max_Iter = 50\n",
    "* Accuracy promedio = `0.9604`\n",
    "\n",
    "### Ejemplo de Feature List\n",
    "\n",
    "*Feature list* para a letra 'n' de la palabra \"díníphé\" de la frase \"díníphé nι rι 'yó'\"\n",
    "\n",
    "```python\n",
    "[\n",
    "    'bias',\n",
    "    'letterLowercase=n',\n",
    "    'postag=v',\n",
    "    'BOS',\n",
    "    'BOS',\n",
    "    'nxtpostag=det',\n",
    "    'letterposition=-4',\n",
    "    'prev2letters=dí>',\n",
    "    'prevletter=í>',\n",
    "    'nxtletter=<í',\n",
    "    'nxt2letters=<íp',\n",
    "    'nxt3letters=<íph',\n",
    "    'nxt4letters=<íphé'\n",
    "]\n",
    "```"
   ]
  },
  {
   "cell_type": "code",
   "execution_count": 35,
   "metadata": {},
   "outputs": [],
   "source": [
    "import os\n",
    "import pycrfsuite\n",
    "import sys  \n",
    "import random\n",
    "from utils import get_corpus, WordsToLetter\n",
    "from corpus_utils import (oto_glosser, words_report, gloss_to_csv, obtener_frase)"
   ]
  },
  {
   "cell_type": "code",
   "execution_count": 36,
   "metadata": {},
   "outputs": [
    {
     "name": "stdout",
     "output_type": "stream",
     "text": [
      "Full path models/linearCRF/linearCRF_reg_k_3.crf\n"
     ]
    },
    {
     "data": {
      "text/plain": [
       "<contextlib.closing at 0x7fc0cb10ae20>"
      ]
     },
     "execution_count": 36,
     "metadata": {},
     "output_type": "execute_result"
    }
   ],
   "source": [
    "env_name = \"linearCRF\"\n",
    "model_name = \"linearCRF_reg_k_3.crf\"\n",
    "model_path = os.path.join(\"models\", env_name, model_name)\n",
    "print(\"Full path\", model_path)\n",
    "tagger = pycrfsuite.Tagger()\n",
    "# Cargando modelos preentrenados\n",
    "tagger.open(model_path)"
   ]
  },
  {
   "cell_type": "code",
   "execution_count": 37,
   "metadata": {},
   "outputs": [],
   "source": [
    "# Obteniendo corpus para pruebas\n",
    "corpus = get_corpus('corpus_otomi_mod', '../corpora/') + \\\n",
    "         get_corpus('corpus_otomi_hard', '../corpora/')\n",
    "letter_corpus = WordsToLetter(corpus)"
   ]
  },
  {
   "cell_type": "code",
   "execution_count": 38,
   "metadata": {},
   "outputs": [],
   "source": [
    "# funciones auxiliares    \n",
    "def obtener_palabras(frases):\n",
    "    palabras = []\n",
    "    for frase in frases:\n",
    "        chunks = [palabra[0] for palabra in frase[:-1]]\n",
    "        palabras.append(\"\".join(chunks))\n",
    "    return palabras\n",
    "\n",
    "def accuracy_score(y_test, y_pred):\n",
    "    right, total = 0, 0\n",
    "    for real, prediction in zip(y_test, y_pred):\n",
    "        if real == prediction:\n",
    "            right += 1\n",
    "        else:\n",
    "            breakpoint()\n",
    "    return right / len(y_test)\n",
    "\n",
    "\n",
    "def get_labels(sent, flag=0):\n",
    "    labels = []\n",
    "    for word in sent:\n",
    "        for letter in word:\n",
    "            labels.append(letter[2])\n",
    "    return labels\n",
    "\n",
    "\n",
    "def sent2features(data):\n",
    "    return [get_feature_lists(sent) for sent in data]\n",
    "\n",
    "\n",
    "def sent2labels(data):\n",
    "    return [get_labels(sent) for sent in data]\n",
    "\n",
    "\n",
    "def get_feature_lists(sent):\n",
    "    ''' Reglas que configuran las feature lists para entrenamiento\n",
    "\n",
    "    :param sent: Data as `[[[[[letter, POS, BIO-label],...],words],sents]]`\n",
    "    :type: list\n",
    "    :return: list of words with characters as features list:\n",
    "        [[[[[letterfeatures],POS,BIO-label],letters],words]]\n",
    "    :rtype: list\n",
    "    '''\n",
    "\n",
    "    featurelist = []\n",
    "    senlen = len(sent)\n",
    "    # each word in a sentence\n",
    "    for i in range(senlen):\n",
    "        word = sent[i]\n",
    "        wordlen = len(word)\n",
    "        lettersequence = ''\n",
    "        # each letter in a word\n",
    "        for j in range(wordlen):\n",
    "            letter = word[j][0]\n",
    "            # gathering previous letters\n",
    "            lettersequence += letter\n",
    "            # ignore digits\n",
    "            if not letter.isdigit():\n",
    "                features = [\n",
    "                    'bias',\n",
    "                    'letterLowercase=' + letter.lower(),\n",
    "                    'postag=' + word[j][1],\n",
    "                ]\n",
    "                # Position of word in sentence\n",
    "                if i == senlen -1:\n",
    "                    features.append(\"EOS\")\n",
    "                else:\n",
    "                    features.append(\"BOS\")\n",
    "\n",
    "                # Pos tag sequence (Don't get pos tag if sentence is 1 word long)\n",
    "                if i > 0 and senlen > 1:\n",
    "                    features.append('prevpostag=' + sent[i-1][0][1])\n",
    "                    if i != senlen-1:\n",
    "                        features.append('nxtpostag=' + sent[i+1][0][1])\n",
    "                    else:\n",
    "                        features.append('EOS')\n",
    "                else:\n",
    "                    features.append('BOS')\n",
    "                    #Don't get pos tag if sentence is 1 word long\n",
    "                    if i != senlen-1:\n",
    "                        features.append('nxtpostag=' + sent[i+1][0][1])\n",
    "\n",
    "                # Position of letter in word\n",
    "                if j == 0:\n",
    "                    features.append('BOW')\n",
    "                elif j == wordlen-1:\n",
    "                    features.append('EOW')\n",
    "                else:\n",
    "                    features.append('letterposition=-%s' % str(wordlen-1-j))\n",
    "\n",
    "                # Letter sequences before letter\n",
    "                if j >= 4:\n",
    "                    features.append('prev4letters=' + lettersequence[j-4:j].lower() + '>')\n",
    "                if j >= 3:\n",
    "                    features.append('prev3letters=' + lettersequence[j-3:j].lower() + '>')\n",
    "                if j >= 2:\n",
    "                    features.append('prev2letters=' + lettersequence[j-2:j].lower() + '>')\n",
    "                if j >= 1:\n",
    "                    features.append('prevletter=' + lettersequence[j-1:j].lower() + '>')\n",
    "\n",
    "                # letter sequences after letter\n",
    "                if j <= wordlen-2:\n",
    "                    nxtlets = word[j+1][0]\n",
    "                    features.append('nxtletter=<' + nxtlets.lower())\n",
    "                if j <= wordlen-3:\n",
    "                    nxtlets += word[j+2][0]\n",
    "                    features.append('nxt2letters=<' + nxtlets.lower())\n",
    "                if j <= wordlen-4:\n",
    "                    nxtlets += word[j+3][0]\n",
    "                    features.append('nxt3letters=<' + nxtlets.lower())\n",
    "                if j <= wordlen-5:\n",
    "                    nxtlets += word[j+4][0]\n",
    "                    features.append('nxt4letters=<' + nxtlets.lower())\n",
    "            featurelist.append(features)\n",
    "    return featurelist"
   ]
  },
  {
   "cell_type": "markdown",
   "metadata": {},
   "source": [
    "## Los peores ejemplos"
   ]
  },
  {
   "cell_type": "code",
   "execution_count": null,
   "metadata": {},
   "outputs": [
    {
     "name": "stdout",
     "output_type": "stream",
     "text": [
      "> <ipython-input-38-cf9a5f83fc2d>(27)accuracy_score()\n",
      "-> wrong += 1\n"
     ]
    },
    {
     "name": "stdin",
     "output_type": "stream",
     "text": [
      "(Pdb)  l\n"
     ]
    },
    {
     "name": "stdout",
     "output_type": "stream",
     "text": [
      " 22  \t        for t, p in zip(tests, predictions):\n",
      " 23  \t            if t == p:\n",
      " 24  \t                right += 1\n",
      " 25  \t            elif t != p:\n",
      " 26  \t                breakpoint()\n",
      " 27  ->\t                wrong += 1\n",
      " 28  \t\n",
      " 29  \t    return right / total\n",
      " 30  \t\n",
      " 31  \t\n",
      " 32  \tdef get_labels(sent, flag=0):\n"
     ]
    },
    {
     "name": "stdin",
     "output_type": "stream",
     "text": [
      "(Pdb)  p t\n"
     ]
    },
    {
     "name": "stdout",
     "output_type": "stream",
     "text": [
      "'c'\n"
     ]
    },
    {
     "name": "stdin",
     "output_type": "stream",
     "text": [
      "(Pdb)  p p\n"
     ]
    },
    {
     "name": "stdout",
     "output_type": "stream",
     "text": [
      "'1'\n"
     ]
    },
    {
     "name": "stdin",
     "output_type": "stream",
     "text": [
      "(Pdb)  p tests\n"
     ]
    },
    {
     "name": "stdout",
     "output_type": "stream",
     "text": [
      "'B-como'\n"
     ]
    },
    {
     "name": "stdin",
     "output_type": "stream",
     "text": [
      "(Pdb)  p predictions\n"
     ]
    },
    {
     "name": "stdout",
     "output_type": "stream",
     "text": [
      "'B-1.icp'\n"
     ]
    }
   ],
   "source": [
    "peores_frases = []\n",
    "data = dict()\n",
    "for i, example in enumerate(letter_corpus):\n",
    "    # Obtenemos las palabras de la frase en forma de lista\n",
    "    palabras = obtener_palabras(corpus[i])\n",
    "    # Creación de feature functions\n",
    "    feature_lists = get_feature_lists(example)    \n",
    "    # Etiquetas predichas por el modelo\n",
    "    predicted_tags = tagger.tag(feature_lists)  \n",
    "    # Etiquetas reales para las partes de las palabras\n",
    "    real_tags = get_labels(example)\n",
    "    accuracy = accuracy_score(real_tags, prediction_tags)\n",
    "    # Accuracy score albitrario para las peores\n",
    "    if accuracy <= 0.8:\n",
    "        # Glosador con las etiquetas predichas\n",
    "        predicted_gloss = oto_glosser(palabras, predicted_tags, corpus[i])\n",
    "        # Estuctura para ser escrita en csv\n",
    "        data[\"frase\"] = \" \".join(palabras)\n",
    "        data[\"pred-tags\"] = predicted_tags\n",
    "        data[\"real-tags\"] = real_tags\n",
    "        data[\"index\"] = i\n",
    "        data[\"accuracy\"] = accuracy\n",
    "        peores_frases.append(data)\n",
    "        data = {}"
   ]
  },
  {
   "cell_type": "code",
   "execution_count": 30,
   "metadata": {},
   "outputs": [],
   "source": [
    "peores_frases = sorted(peores_frases, key=lambda t: t['accuracy'])"
   ]
  },
  {
   "cell_type": "code",
   "execution_count": 31,
   "metadata": {},
   "outputs": [
    {
     "data": {
      "text/plain": [
       "['B-como',\n",
       " 'I-como',\n",
       " 'B-3.cpl',\n",
       " 'I-3.cpl',\n",
       " 'B-ctrf',\n",
       " 'I-ctrf',\n",
       " 'B-stem',\n",
       " 'I-stem',\n",
       " 'I-stem']"
      ]
     },
     "execution_count": 31,
     "metadata": {},
     "output_type": "execute_result"
    }
   ],
   "source": [
    "peores_frases[0][\"pred-tags\"]"
   ]
  },
  {
   "cell_type": "code",
   "execution_count": 32,
   "metadata": {},
   "outputs": [
    {
     "data": {
      "text/plain": [
       "['B-como',\n",
       " 'I-como',\n",
       " 'B-3.cpl',\n",
       " 'I-3.cpl',\n",
       " 'B-ctrf',\n",
       " 'I-ctrf',\n",
       " 'B-stem',\n",
       " 'I-stem',\n",
       " 'I-stem']"
      ]
     },
     "execution_count": 32,
     "metadata": {},
     "output_type": "execute_result"
    }
   ],
   "source": [
    "peores_frases[0][\"real-tags\"]"
   ]
  },
  {
   "cell_type": "markdown",
   "metadata": {},
   "source": [
    "### Imprimir reporte"
   ]
  },
  {
   "cell_type": "code",
   "execution_count": 13,
   "metadata": {},
   "outputs": [
    {
     "data": {
      "text/plain": [
       "[[['dí', '1.icp'], ['ní', 'stem'], ['p', 'lig'], ['hé', 'pl.exc'], 'v'],\n",
       " [['nι', 'det'], 'det'],\n",
       " [['rι', 'det'], 'det'],\n",
       " [[\"'yó'\", 'stem'], 'n']]"
      ]
     },
     "execution_count": 13,
     "metadata": {},
     "output_type": "execute_result"
    }
   ],
   "source": [
    "corpus[i]"
   ]
  },
  {
   "cell_type": "code",
   "execution_count": 14,
   "metadata": {},
   "outputs": [
    {
     "data": {
      "text/plain": [
       "[[['dí', '1.icp'], ['níphé', 'stem'], 'v'],\n",
       " [['nι', 'det'], 'det'],\n",
       " [['rι', 'det'], 'det'],\n",
       " [[\"'yó'\", 'stem'], 'n']]"
      ]
     },
     "execution_count": 14,
     "metadata": {},
     "output_type": "execute_result"
    }
   ],
   "source": [
    "predicted_gloss"
   ]
  },
  {
   "cell_type": "code",
   "execution_count": 15,
   "metadata": {},
   "outputs": [
    {
     "data": {
      "text/plain": [
       "['B-1.icp',\n",
       " 'I-1.icp',\n",
       " 'B-stem',\n",
       " 'I-stem',\n",
       " 'B-lig',\n",
       " 'B-pl.exc',\n",
       " 'I-pl.exc',\n",
       " 'B-det',\n",
       " 'I-det',\n",
       " 'B-det',\n",
       " 'I-det',\n",
       " 'B-stem',\n",
       " 'I-stem',\n",
       " 'I-stem',\n",
       " 'I-stem']"
      ]
     },
     "execution_count": 15,
     "metadata": {},
     "output_type": "execute_result"
    }
   ],
   "source": [
    "real_tags"
   ]
  },
  {
   "cell_type": "code",
   "execution_count": 17,
   "metadata": {},
   "outputs": [
    {
     "data": {
      "text/plain": [
       "['B-1.icp',\n",
       " 'I-1.icp',\n",
       " 'B-stem',\n",
       " 'I-stem',\n",
       " 'I-stem',\n",
       " 'I-stem',\n",
       " 'I-stem',\n",
       " 'B-det',\n",
       " 'I-det',\n",
       " 'B-det',\n",
       " 'I-det',\n",
       " 'B-stem',\n",
       " 'I-stem',\n",
       " 'I-stem',\n",
       " 'I-stem']"
      ]
     },
     "execution_count": 17,
     "metadata": {},
     "output_type": "execute_result"
    }
   ],
   "source": [
    "prediction_tags"
   ]
  },
  {
   "cell_type": "code",
   "execution_count": 6,
   "metadata": {},
   "outputs": [
    {
     "name": "stdout",
     "output_type": "stream",
     "text": [
      "--------------------------------------------------\n",
      "Ejemplo 1 de 5 | Frase: \"padú\" | Accuracy: 0.25\n",
      "Letra | Predicción | Real | eq?\n",
      "p | B-stem | b'B-3.prf' | False\n",
      "a | I-stem | b'I-3.prf' | False\n",
      "d | I-stem | b'B-stem' | False\n",
      "ú | I-stem | b'I-stem' | False\n",
      "--------------------------------------------------\n",
      "Ejemplo 2 de 5 | Frase: \"doné\" | Accuracy: 0.25\n",
      "Letra | Predicción | Real | eq?\n",
      "d | B-stem | b'B-1.pot' | False\n",
      "o | I-stem | b'I-1.pot' | False\n",
      "n | I-stem | b'B-stem' | False\n",
      "é | I-stem | b'I-stem' | False\n",
      "--------------------------------------------------\n",
      "Ejemplo 3 de 5 | Frase: \"bεhthó bεhthó\" | Accuracy: 0.3333333333333333\n",
      "Letra | Predicción | Real | eq?\n",
      "b | B-stem | b'B-stem' | False\n",
      "ε | I-stem | b'I-stem' | False\n",
      "h | I-stem | b'B-lig' | False\n",
      "t | B-ila | b'B-neg' | False\n",
      "h | I-ila | b'I-neg' | False\n",
      "ó | I-ila | b'I-neg' | False\n",
      "b | B-stem | b'B-stem' | False\n",
      "ε | I-stem | b'I-stem' | False\n",
      "h | I-stem | b'B-lig' | False\n",
      "t | B-ila | b'B-neg' | False\n",
      "h | I-ila | b'I-neg' | False\n",
      "ó | I-ila | b'I-neg' | False\n",
      "--------------------------------------------------\n",
      "Ejemplo 4 de 5 | Frase: \"mihtsú\" | Accuracy: 0.3333333333333333\n",
      "Letra | Predicción | Real | eq?\n",
      "m | B-stem | b'B-psd' | False\n",
      "i | I-stem | b'B-3.icp' | False\n",
      "h | I-stem | b'B-lig' | False\n",
      "t | I-stem | b'B-stem' | False\n",
      "s | I-stem | b'I-stem' | False\n",
      "ú | I-stem | b'I-stem' | False\n",
      "--------------------------------------------------\n",
      "Ejemplo 5 de 5 | Frase: \"ya kwatú\" | Accuracy: 0.42857142857142855\n",
      "Letra | Predicción | Real | eq?\n",
      "y | B-stem | b'B-stem' | False\n",
      "a | I-stem | b'I-stem' | False\n",
      "k | B-stem | b'B-1.irr' | False\n",
      "w | I-stem | b'I-1.irr' | False\n",
      "a | I-stem | b'I-1.irr' | False\n",
      "t | I-stem | b'B-stem' | False\n",
      "ú | I-stem | b'I-stem' | False\n"
     ]
    }
   ],
   "source": [
    "# Tomamos los 5 peores\n",
    "words_report(peores_frases, letter_corpus, get_feature_lists, tagger, 5)"
   ]
  },
  {
   "cell_type": "code",
   "execution_count": 7,
   "metadata": {},
   "outputs": [],
   "source": [
    "# Escribirmos resultados en formato csv\n",
    "gloss_to_csv(peores_frases, corpus, \"peores-frases-linearCRF_reg\")"
   ]
  },
  {
   "cell_type": "markdown",
   "metadata": {},
   "source": [
    "### Los mejores\n",
    "\n",
    "Como de estos hay muchos vamos a tomar 3 al azar"
   ]
  },
  {
   "cell_type": "code",
   "execution_count": null,
   "metadata": {},
   "outputs": [],
   "source": [
    "mejores_frases = []\n",
    "for i, example in enumerate(letter_corpus):\n",
    "    # Obtenemos las palabras de la frase en forma de lista\n",
    "    palabras = obtener_palabras(corpus[i])\n",
    "    # Creación de feature functions\n",
    "    feature_lists = get_feature_lists(example)    \n",
    "    # Etiquetas predichas por el modelo\n",
    "    prediction_tags = tagger.tag(feature_lists)      \n",
    "    # Etiquetas reales para las partes de las palabras\n",
    "    real_tags = get_labels(example, 1)\n",
    "    accuracy = accuracy_score(real_tags, prediction_tags)\n",
    "    # Accuracy score albitrario para las peores\n",
    "    if accuracy == 1.0:\n",
    "        # Glosador con las etiquetas predichas\n",
    "        predicted_gloss = oto_glosser(palabras, prediction_tags, corpus[i])\n",
    "        # Estuctura para ser escrita en csv\n",
    "        mejores_frases.append((palabras, predicted_gloss, i, accuracy))"
   ]
  },
  {
   "cell_type": "code",
   "execution_count": null,
   "metadata": {},
   "outputs": [],
   "source": [
    "# Tomamos los 5 peores\n",
    "words_report(mejores_frases, letter_corpus, get_feature_lists, tagger, 5)"
   ]
  },
  {
   "cell_type": "code",
   "execution_count": null,
   "metadata": {},
   "outputs": [],
   "source": [
    "# Escribirmos resultados en formato csv\n",
    "gloss_to_csv(mejores_frases, corpus, \"mejores-frases-linearCRF\")"
   ]
  }
 ],
 "metadata": {
  "kernelspec": {
   "display_name": "Python 3",
   "language": "python",
   "name": "python3"
  },
  "language_info": {
   "codemirror_mode": {
    "name": "ipython",
    "version": 3
   },
   "file_extension": ".py",
   "mimetype": "text/x-python",
   "name": "python",
   "nbconvert_exporter": "python",
   "pygments_lexer": "ipython3",
   "version": "3.9.2"
  }
 },
 "nbformat": 4,
 "nbformat_minor": 4
}
