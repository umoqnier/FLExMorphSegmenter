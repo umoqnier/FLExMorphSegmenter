{
 "cells": [
  {
   "cell_type": "markdown",
   "metadata": {},
   "source": [
    "# Information about the corpus\n",
    "\n",
    "* Tokens (POS, BIO gloss)\n",
    "* Typos (POS, BIO, gloss)\n",
    "* Total Words"
   ]
  },
  {
   "cell_type": "code",
   "execution_count": 2,
   "metadata": {},
   "outputs": [],
   "source": [
    "%matplotlib inline\n",
    "import sys\n",
    "import numpy as np\n",
    "import matplotlib.pyplot as plt\n",
    "import pandas as pd\n",
    "from scipy import special\n",
    "sys.path.insert(0, '../')\n",
    "from utils import get_corpus, WordsToLetter, extractFeatures\n",
    "from pprint import pprint\n",
    "from functools import reduce\n",
    "import collections\n",
    "\n",
    "original_corpus = get_corpus('corpus_otomi_mod', '../corpora/')\n",
    "hard_corpus = get_corpus('corpus_otomi_hard', '../corpora/')\n",
    "\n"
   ]
  },
  {
   "cell_type": "code",
   "execution_count": 3,
   "metadata": {},
   "outputs": [],
   "source": [
    "# Conteo de palabras\n",
    "\n",
    "def obtener_palabras(corpora):\n",
    "    palabras = []\n",
    "    for frases in corpora:\n",
    "        for frase in frases:\n",
    "            chunks = [palabra[0] for palabra in frase[:-1]]\n",
    "            palabras.append(\"\".join(chunks))\n",
    "    return palabras"
   ]
  },
  {
   "cell_type": "code",
   "execution_count": 4,
   "metadata": {},
   "outputs": [],
   "source": [
    "# Funciones auxiliares\n",
    "\n",
    "def count_occurrence(bag, _type):\n",
    "    if _type in bag.keys():\n",
    "        bag[_type] += 1\n",
    "    else:\n",
    "        bag[_type] = 1\n",
    "    return bag\n",
    "\n",
    "def dict_sorter(data):\n",
    "    # Ref https://stackoverflow.com/questions/613183/how-do-i-sort-a-dictionary-by-value\n",
    "    return {k: v for k, v in sorted(data.items(), key=lambda item: item[1], reverse=True)}"
   ]
  },
  {
   "cell_type": "code",
   "execution_count": 5,
   "metadata": {},
   "outputs": [],
   "source": [
    "# Funciones que obtienen tokens\n",
    "\n",
    "def get_tokens(corpus):\n",
    "    gloss_tags, pos_tags = dict(), dict()\n",
    "    for frases in corpus:\n",
    "        for frase in frases:\n",
    "            for parte in frase[:-1]:    \n",
    "                gloss_tags = count_occurrence(gloss_tags, parte[1])\n",
    "            pos_tags = count_occurrence(pos_tags, frase[-1])\n",
    "    return dict_sorter(pos_tags), dict_sorter(gloss_tags)\n",
    "\n",
    "def get_bio_tokens(corpus):\n",
    "    bio_tokens = dict()\n",
    "    frases = WordsToLetter(corpus)\n",
    "    for frase in frases:\n",
    "        for letras in frase:\n",
    "            for letra in letras:\n",
    "                bio_tokens = count_occurrence(bio_tokens, letra[-1])  # Only Bio Label\n",
    "    return dict_sorter(bio_tokens)"
   ]
  },
  {
   "cell_type": "code",
   "execution_count": 6,
   "metadata": {},
   "outputs": [],
   "source": [
    "# Obteniedo datos del corpus\n",
    "corpora = original_corpus + hard_corpus\n",
    "pos, gloss = get_tokens(corpora)\n",
    "bio = get_bio_tokens(corpora)\n",
    "palabras = obtener_palabras(corpora)\n",
    "\n",
    "pos_types = pos.keys()\n",
    "gloss_types = gloss.keys()\n",
    "bio_types = bio.keys()\n",
    "words_types = set(palabras)"
   ]
  },
  {
   "cell_type": "code",
   "execution_count": 11,
   "metadata": {},
   "outputs": [
    {
     "name": "stdout",
     "output_type": "stream",
     "text": [
      "Frases etiquetadas corpus original: 1688\n",
      "Frases etiquetadas corpus retador: 81\n",
      "Frases etiquetadas totales: 1769\n",
      "Número de tokens Palabras:  8550\n",
      "Numero de tipos Palabras:  3125\n",
      "Numero de tokens POS: 8550\n",
      "Numero de tipos POS: 44\n",
      "Numero de tokens GLOSA: 14405\n",
      "Numero de tipos GLOSA: 112\n"
     ]
    }
   ],
   "source": [
    "# Reportando tamaño de tipos y tokens\n",
    "\n",
    "print(\"Frases etiquetadas corpus original:\", len(original_corpus))\n",
    "print(\"Frases etiquetadas corpus retador:\", len(hard_corpus))\n",
    "print(\"Frases etiquetadas totales:\", len(corpora))\n",
    "print(\"Número de tokens Palabras: \", len(palabras))\n",
    "print(\"Numero de tipos Palabras: \", len(words_types))\n",
    "\n",
    "print(\"Numero de tokens POS:\", reduce(lambda x, y: x + y, pos.values()))\n",
    "print(\"Numero de tipos POS:\", len(pos_types))\n",
    "\n",
    "print(\"Numero de tokens GLOSA:\", reduce(lambda x, y: x + y, gloss.values()))\n",
    "print(\"Numero de tipos GLOSA:\", len(gloss_types))"
   ]
  },
  {
   "cell_type": "code",
   "execution_count": 71,
   "metadata": {},
   "outputs": [
    {
     "data": {
      "text/plain": [
       "array([1.55054610e+00, 3.87636524e-01, 1.72282900e-01, 9.69091310e-02,\n",
       "       6.20218439e-02, 4.30707249e-02, 3.16437979e-02, 2.42272828e-02,\n",
       "       1.91425444e-02, 1.55054610e-02, 1.28144306e-02, 1.07676812e-02,\n",
       "       9.17482897e-03, 7.91094947e-03, 6.89131599e-03, 6.05682069e-03,\n",
       "       5.36521141e-03, 4.78563610e-03, 4.29514154e-03, 3.87636524e-03,\n",
       "       3.51597754e-03, 3.20360764e-03, 2.93108903e-03, 2.69192031e-03,\n",
       "       2.48087375e-03, 2.29370724e-03, 2.12694938e-03, 1.97773737e-03,\n",
       "       1.84369334e-03, 1.72282900e-03, 1.61347148e-03, 1.51420517e-03,\n",
       "       1.42382562e-03, 1.34130285e-03, 1.26575192e-03, 1.19640903e-03,\n",
       "       1.13261220e-03, 1.07378539e-03, 1.01942544e-03, 9.69091310e-04,\n",
       "       9.22395061e-04, 8.78994386e-04, 8.38586315e-04, 8.00901909e-04,\n",
       "       7.65701776e-04, 7.32772257e-04, 7.01922181e-04, 6.72980077e-04,\n",
       "       6.45791794e-04])"
      ]
     },
     "execution_count": 71,
     "metadata": {},
     "output_type": "execute_result"
    }
   ],
   "source": [
    "y"
   ]
  },
  {
   "cell_type": "code",
   "execution_count": 7,
   "metadata": {},
   "outputs": [],
   "source": [
    "def zipf_graph(data, conf):\n",
    "    # Graph configs\n",
    "    plt.rcParams['figure.figsize'] = [conf['width'], conf['height']]\n",
    "    plt.grid()\n",
    "    plt.xlabel(conf[\"xlabel\"], fontsize=conf[\"fontsize\"])\n",
    "    plt.ylabel(conf[\"ylabel\"], fontsize=conf[\"fontsize\"])\n",
    "    plt.title(conf[\"title\"], fontsize=conf[\"fontsize\"])\n",
    "    plt.tick_params(axis='both', direction='out', length=5, width=5, labelcolor=conf['labelcolor'],\n",
    "                    colors=conf['tickscolor'], grid_color=conf['gridcolor'], grid_alpha=0.5)\n",
    "    # Ploting freq data \n",
    "    count, bins, ignored = plt.hist(data[data<=25], 25, density=True, color=\"teal\")\n",
    "    # Calculate zipf distribution for reference\n",
    "    a = 2. #  distribution parameter\n",
    "    x = np.arange(1., 25.)\n",
    "    y = x**(-a) / special.zetac(a)\n",
    "    plt.plot(x, y/max(y), linewidth=3, color=conf['color'])\n",
    "    plt.savefig(conf['path'], dpi=150, bbox_inches='tight')\n",
    "    plt.show()\n",
    "\n",
    "\n",
    "def graph_maker(data, conf):\n",
    "    plt.rcParams['figure.figsize'] = [conf['width'], conf['height']]\n",
    "    plt.grid()\n",
    "    plt.xticks(rotation=90)\n",
    "    plt.yscale('log', base=2)\n",
    "    plt.xlabel(conf[\"xlabel\"], fontsize=conf[\"fontsize\"])\n",
    "    plt.ylabel(conf[\"ylabel\"], fontsize=conf[\"fontsize\"])\n",
    "    plt.title(conf[\"title\"], fontsize=conf[\"fontsize\"])\n",
    "    plt.tick_params(axis='both', direction='out', length=5, width=5, labelcolor=conf['labelcolor'],\n",
    "                    colors=conf['tickscolor'], grid_color=conf['gridcolor'], grid_alpha=0.5)\n",
    "    if conf[\"limit\"] >= 1:\n",
    "        plt.plot(list(data.keys())[:conf['limit']], list(data.values())[:conf['limit']], color=conf['color'], linestyle='-.', linewidth=3)\n",
    "    else:\n",
    "        plt.plot(list(data.keys()), list(data.values()), color=conf['color'], linestyle='-.', linewidth=3)\n",
    "    #plt.savefig(conf['path'], dpi=300, bbox_inches='tight')\n",
    "    plt.show()"
   ]
  },
  {
   "cell_type": "code",
   "execution_count": 26,
   "metadata": {},
   "outputs": [
    {
     "data": {
      "text/plain": [
       "<AxesSubplot:>"
      ]
     },
     "execution_count": 26,
     "metadata": {},
     "output_type": "execute_result"
    },
    {
     "data": {
      "image/png": "[encoded data removed]",
      "text/plain": [
       "<Figure size 432x288 with 1 Axes>"
      ]
     },
     "metadata": {
      "needs_background": "light"
     },
     "output_type": "display_data"
    }
   ],
   "source": [
    "# Graph configs\n",
    "conf = {\"xlabel\": \"Palabras\", \"ylabel\": \"Frequency\", \"width\": 15, \"height\": 8, \"fontsize\": 16, \n",
    "        \"title\": \"Words zipf's distribution\", \"labelcolor\": '#32127a', \"tickscolor\": '#5d76cb',\n",
    "        \"gridcolor\": \"#5d76cb\", \"color\": \"Indigo\", \"path\": \"test2.png\"}\n",
    "# Making word bag\n",
    "words_frequencies = collections.Counter(palabras)\n",
    "# Ordening by frequence\n",
    "words_frequencies = dict_sorter(words_frequencies)\n",
    "pd_words = pd.DataFrame(data=list(words_frequencies.values()), index=list(words_frequencies.keys()), columns=[\"frequency\"])\n",
    "pd_words.plot(loglog=True)\n",
    "# Making freq values to np array\n",
    "#s = list(words_frequencies.values())\n",
    "#s = np.array(s)\n",
    "#zipf_graph(s, conf)"
   ]
  },
  {
   "cell_type": "code",
   "execution_count": 112,
   "metadata": {},
   "outputs": [
    {
     "data": {
      "image/png": "[encoded data removed]",
      "text/plain": [
       "<Figure size 720x360 with 1 Axes>"
      ]
     },
     "metadata": {
      "needs_background": "light"
     },
     "output_type": "display_data"
    }
   ],
   "source": [
    "# Distribución de las etiquetas POS\n",
    "conf = {\"width\": 10, \"height\": 5, \"fontsize\": 16, \"xlabel\": \"Etiquetas POS\", \"ylabel\": \"Frecuencia (log2)\",\n",
    "        \"title\": \"Curva de Zipf (POS)\", \"labelcolor\": '#32127a', \"tickscolor\": '#5d76cb', \"gridcolor\": \"#5d76cb\", \"color\": \"Indigo\",\n",
    "        \"path\": \"latex/img/zipf_pos.png\", \"limit\": -1}\n",
    "\n",
    "graph_maker(pos, conf)"
   ]
  },
  {
   "cell_type": "code",
   "execution_count": null,
   "metadata": {},
   "outputs": [],
   "source": [
    "# Distribución de la glosa\n",
    "conf = {\"width\": 12, \"height\": 5, \"fontsize\": 16, \"xlabel\": \"Etiquetas\", \"ylabel\": \"Frecuencia (log2)\",\n",
    "        \"title\": \"Curva de Zipf (Glosa)\", \"labelcolor\": '#008080', \"tickscolor\": 'teal', \"gridcolor\": \"#7fcc99\", \"color\": \"teal\",\n",
    "        \"path\": \"latex/img/zipf_gloss.png\", \"limit\": 50}\n",
    "\n",
    "graph_maker(gloss, conf)"
   ]
  },
  {
   "cell_type": "code",
   "execution_count": null,
   "metadata": {},
   "outputs": [],
   "source": [
    "# Distribución de las Bio Labels\n",
    "conf = {\"width\": 12, \"height\": 5, \"fontsize\": 16, \"xlabel\": \"Bio Labels\", \"ylabel\": \"Frecuencia (log2)\",\n",
    "        \"title\": \"Curva de Zipf (Bio labels)\", \"labelcolor\": '#da5c00', \"tickscolor\": 'firebrick', \"gridcolor\": \"#da5c00\", \"color\": \"firebrick\",\n",
    "        \"path\": \"latex/img/zipf_bio.png\", \"limit\": 50}\n",
    "\n",
    "graph_maker(bio, conf)"
   ]
  },
  {
   "cell_type": "code",
   "execution_count": 6,
   "metadata": {},
   "outputs": [],
   "source": [
    "def types_to_table(data, columns):\n",
    "    return \"\".join([t + \" \\\\\\\\\\n \" if i % columns == 0 else t + \" & \" for i, t in enumerate(data, start=1)])\n",
    "\n",
    "def tokens_to_table(data, limit=0):\n",
    "    table = \"\"\n",
    "    if limit:\n",
    "        counts = list(data.items())[:limit]\n",
    "    else:\n",
    "        counts = data.items()\n",
    "    for key, count in counts:\n",
    "        table += f\"{key} & {count} \\\\\\\\\\n\"\n",
    "    return table"
   ]
  },
  {
   "cell_type": "code",
   "execution_count": 19,
   "metadata": {},
   "outputs": [
    {
     "name": "stdout",
     "output_type": "stream",
     "text": [
      "I-stem & 20346 \\\\\n",
      "B-stem & 7501 \\\\\n",
      "I-det & 739 \\\\\n",
      "B-det & 733 \\\\\n",
      "I-lim & 712 \\\\\n",
      "B-3.cpl & 444 \\\\\n",
      "I-3.cpl & 444 \\\\\n",
      "B-psd & 413 \\\\\n",
      "B-lim & 370 \\\\\n",
      "B-prag & 357 \\\\\n",
      "\n"
     ]
    }
   ],
   "source": [
    "# Cuenta de Bio Labels a cuerpo de tabla latex \n",
    "print(tokens_to_table(bio, limit=10))"
   ]
  },
  {
   "cell_type": "code",
   "execution_count": 20,
   "metadata": {},
   "outputs": [
    {
     "name": "stdout",
     "output_type": "stream",
     "text": [
      "v & 2579 \\\\\n",
      "obl & 2443 \\\\\n",
      "det & 973 \\\\\n",
      "cnj & 835 \\\\\n",
      "dem & 543 \\\\\n",
      "unkwn & 419 \\\\\n",
      "n & 272 \\\\\n",
      "neg & 176 \\\\\n",
      "p.loc & 81 \\\\\n",
      "prt & 49 \\\\\n",
      "\n"
     ]
    }
   ],
   "source": [
    "# Cuenta de etiquetas POS a cuerpo de tabla latex \n",
    "print(tokens_to_table(pos, limit=10))"
   ]
  },
  {
   "cell_type": "code",
   "execution_count": 21,
   "metadata": {},
   "outputs": [
    {
     "name": "stdout",
     "output_type": "stream",
     "text": [
      "stem & 7501 \\\\\n",
      "det & 733 \\\\\n",
      "3.cpl & 444 \\\\\n",
      "psd & 413 \\\\\n",
      "lim & 370 \\\\\n",
      "prag & 357 \\\\\n",
      "3.icp & 341 \\\\\n",
      "lig & 287 \\\\\n",
      "1.icp & 270 \\\\\n",
      "det.pl & 269 \\\\\n",
      "\n"
     ]
    }
   ],
   "source": [
    "# Cuenta de etiquetas de glosa a cuerpo de tabla latex \n",
    "print(tokens_to_table(gloss, limit=10))"
   ]
  },
  {
   "cell_type": "code",
   "execution_count": 22,
   "metadata": {},
   "outputs": [
    {
     "name": "stdout",
     "output_type": "stream",
     "text": [
      "v & obl & det & cnj \\\\\n",
      " dem & unkwn & n & neg \\\\\n",
      " p.loc & prt & conj.adv & dim \\\\\n",
      " gen & cond & it & lim \\\\\n",
      " aff & loc & pascuala & toluca \\\\\n",
      " chente & chalma & conj & dec \\\\\n",
      " mexico & tapanco & regular/v & juan \\\\\n",
      " san & adv & cnj.adv & cord \\\\\n",
      " emilio & cristo & buena.vista & andrés \\\\\n",
      " adj & nada.más & calvario & luis \\\\\n",
      " mextepec & zapata & pato & bautisterio \\\\\n",
      " \n"
     ]
    }
   ],
   "source": [
    "# Tipos de etiquetas POS a cuerpo de tabla Latex \n",
    "print(types_to_table(pos_types, 4))"
   ]
  },
  {
   "cell_type": "code",
   "execution_count": 23,
   "metadata": {},
   "outputs": [
    {
     "name": "stdout",
     "output_type": "stream",
     "text": [
      "stem & det & 3.cpl & psd & lim \\\\\n",
      " prag & 3.icp & lig & 1.icp & det.pl \\\\\n",
      " 3.pot & ctrf & 1.pot & pl.exc & 1.cpl \\\\\n",
      " dem & 1.pss & dim & pl & ila \\\\\n",
      " 1.obj & 2.icp & 3.cnt & 1.prf & loc \\\\\n",
      " 3.obj & mod & 1.cnt & 3.pls & prt \\\\\n",
      " muy & it & dual.exc & 3.prf & 3.icp.irr \\\\\n",
      " 3.pss & 2.pss & 1.enf & dual & med \\\\\n",
      " 2.cnt & p.loc & 2 & 3.imp & neg \\\\\n",
      " int & 1.cpl.irr & 2.obj & 1.icp.irr & pues \\\\\n",
      " 1.pls & aum & que & y & 2.cpl \\\\\n",
      " toluca & 2.prf & aqui & gen & com \\\\\n",
      " hasta & 2.pot & como & 3.cpl.irr & mientras \\\\\n",
      " cuando & adj & agujerear/v & por.que & 1.sg \\\\\n",
      " encl & solo & cond & 1.irr & mucho \\\\\n",
      " conj.adv & spt & 2.enf & 3.pss.pl & uno \\\\\n",
      " pueblo & mexico & animal.de.dios & 3.sg & coraje \\\\\n",
      " dist & pascuala & prf & dónde & chente \\\\\n",
      " nom & dios & loco & tal.vez & tiempo \\\\\n",
      " mujer/v & 2.icp.irr & con & eh & lugar/v \\\\\n",
      " maria & vez & comp & chico & det.dem \\\\\n",
      " para & rapido & caus & dcl & mov \\\\\n",
      " si & 3.irr & \n"
     ]
    }
   ],
   "source": [
    "# Tipos de etiquetas de glosa a cuerpo de tabla Latex \n",
    "print(types_to_table(gloss_types, 5))"
   ]
  },
  {
   "cell_type": "code",
   "execution_count": 9,
   "metadata": {},
   "outputs": [
    {
     "name": "stdout",
     "output_type": "stream",
     "text": [
      "I-stem & B-stem & I-det & B-det & I-lim & B-3.cpl & I-3.cpl & B-psd & B-lim & B-prag & I-prag & B-3.icp & I-dem & B-lig & I-dim & I-det.pl & B-1.icp & I-1.icp & I-ila & B-det.pl & B-3.pot & I-3.pot & B-ctrf & I-ctrf & B-1.pot & I-1.pot & B-pl.exc & I-pl.exc & B-1.cpl & I-1.cpl & B-dem & B-1.pss & I-1.pss & I-loc & B-dim & B-pl & I-pl & B-ila & I-1.cnt & I-mod & B-1.obj & I-1.obj & I-muy & B-2.icp & I-2.icp & B-3.cnt & I-3.cnt & B-1.prf & I-1.prf & I-prt & I-3.obj & B-loc & B-3.obj & B-mod & B-1.cnt & B-3.pls & I-3.pls & B-prt & B-muy & B-it & I-it & B-dual.exc & I-dual.exc & I-toluca & B-3.prf & I-3.prf & B-3.icp.irr & I-3.icp.irr & I-2.cnt & B-3.pss & I-3.pss & B-2.pss & I-2.pss & I-3.imp & I-neg & B-1.enf & I-1.enf & I-1.icp.irr & B-dual & I-dual & I-2.obj & B-med & I-aum & B-2.cnt & B-p.loc & I-p.loc & I-int & B-2 & I-2 & B-3.imp & B-neg & B-int & B-1.cpl.irr & I-1.cpl.irr & I-3.icp & B-2.obj & I-gen & B-1.icp.irr & I-aqui & B-pues & I-pues & B-1.pls & I-1.pls & B-aum & B-que & I-que & B-y & B-2.cpl & I-2.cpl & I-mientras & I-agujerear/v & I-1.sg & B-toluca & I-pueblo & B-2.prf & I-2.prf & I-mexico & I-animal.de.dios & B-aqui & B-gen & I-3.cpl.irr & B-com & I-com & B-hasta & I-hasta & I-pascuala & I-solo & I-3.sg & I-mucho & I-chente & I-tiempo & I-1.irr & I-por.que & I-mujer/v & I-lugar/v & I-maria & I-chico & B-2.pot & I-2.pot & B-como & I-como & B-3.cpl.irr & B-mientras & B-cuando & I-cuando & B-adj & I-adj & B-agujerear/v & B-por.que & I-loco & B-1.sg & B-encl & I-encl & I-det.dem & B-solo & B-cond & I-cond & I-coraje & I-lig & B-1.irr & B-mucho & B-conj.adv & B-spt & I-spt & I-dios & B-2.enf & I-2.enf & B-3.pss.pl & I-3.pss.pl & B-uno & I-uno & B-pueblo & I-2.icp.irr & I-con & B-mexico & I-vez & B-animal.de.dios & B-3.sg & I-dcl & B-coraje & B-dist & I-dist & B-pascuala & B-prf & I-prf & B-dónde & I-y & B-chente & B-nom & I-nom & B-dios & B-loco & B-tal.vez & I-tal.vez & B-tiempo & B-mujer/v & B-2.icp.irr & B-con & B-eh & I-eh & B-lugar/v & B-maria & B-vez & B-comp & I-comp & B-chico & B-det.dem & B-para & I-para & B-rapido & I-rapido & B-caus & I-caus & B-dcl & B-mov & I-mov & B-si & I-si & I-med & B-3.irr & I-3.irr & \n"
     ]
    }
   ],
   "source": [
    "# Tipos de etiquetas BIO a cuerpo de tabla Latex \n",
    "print(types_to_table(bio_types, 1700))"
   ]
  },
  {
   "cell_type": "code",
   "execution_count": null,
   "metadata": {},
   "outputs": [],
   "source": []
  },
  {
   "cell_type": "code",
   "execution_count": null,
   "metadata": {},
   "outputs": [],
   "source": []
  }
 ],
 "metadata": {
  "kernelspec": {
   "display_name": "Python 3",
   "language": "python",
   "name": "python3"
  },
  "language_info": {
   "codemirror_mode": {
    "name": "ipython",
    "version": 3
   },
   "file_extension": ".py",
   "mimetype": "text/x-python",
   "name": "python",
   "nbconvert_exporter": "python",
   "pygments_lexer": "ipython3",
   "version": "3.9.2"
  }
 },
 "nbformat": 4,
 "nbformat_minor": 4
}
