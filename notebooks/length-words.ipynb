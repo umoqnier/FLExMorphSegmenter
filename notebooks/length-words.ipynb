{
 "cells": [
  {
   "cell_type": "code",
   "execution_count": null,
   "metadata": {},
   "outputs": [],
   "source": [
    "%matplotlib inline\n",
    "import matplotlib.pyplot as plt\n",
    "import numpy as np\n",
    "from utils import get_corpus, WordsToLetter, extractFeatures\n",
    "from pprint import pprint\n",
    "from itertools import groupby\n",
    "\n",
    "original_corpus = get_corpus('corpus_otomi_mod')\n",
    "hard_corpus = get_corpus('corpus_hard')\n",
    "corpora = original_corpus + hard_corpus"
   ]
  },
  {
   "cell_type": "code",
   "execution_count": null,
   "metadata": {},
   "outputs": [],
   "source": [
    "def obtener_palabras(corpora):\n",
    "    palabras = []\n",
    "    for frases in corpora:\n",
    "        for frase in frases:\n",
    "            chunks = [palabra[0] for palabra in frase[:-1]]\n",
    "            palabras.append(\"\".join(chunks))\n",
    "    return palabras\n",
    "\n",
    "palabras = obtener_palabras(corpora)\n",
    "print(\"Total de palabras>>\", len(palabras))"
   ]
  },
  {
   "cell_type": "code",
   "execution_count": null,
   "metadata": {},
   "outputs": [],
   "source": [
    "longitudes = list(map(lambda x: len(x), palabras))\n",
    "longitud_promedio = sum(longitudes) / len(longitudes)"
   ]
  },
  {
   "cell_type": "code",
   "execution_count": null,
   "metadata": {},
   "outputs": [],
   "source": [
    "longitud_promedio"
   ]
  },
  {
   "cell_type": "code",
   "execution_count": null,
   "metadata": {},
   "outputs": [],
   "source": [
    "tipos_palabras = set(palabras)\n",
    "print(\"Total de palabras distintas>>\", len(tipos_palabras))"
   ]
  },
  {
   "cell_type": "code",
   "execution_count": null,
   "metadata": {},
   "outputs": [],
   "source": [
    "def count_occurrence(bag, _type):\n",
    "    if _type in bag.keys():\n",
    "        bag[_type] += 1\n",
    "    else:\n",
    "        bag[_type] = 1\n",
    "    return bag\n",
    "\n",
    "def dict_sorter(data):\n",
    "    # Ref https://stackoverflow.com/questions/613183/how-do-i-sort-a-dictionary-by-value\n",
    "    return {k: v for k, v in sorted(data.items(), key=lambda item: item[0], reverse=False)}\n",
    "\n",
    "frecuencias = {}\n",
    "for longitud in longitudes:\n",
    "    frecuencias = count_occurrence(frecuencias, longitud) \n",
    "frecuencias = dict_sorter(frecuencias)"
   ]
  },
  {
   "cell_type": "code",
   "execution_count": null,
   "metadata": {},
   "outputs": [],
   "source": [
    "plt.scatter(list(frecuencias.keys()), list(frecuencias.values()))"
   ]
  }
 ],
 "metadata": {
  "kernelspec": {
   "display_name": "Tesis Kernel",
   "language": "python",
   "name": "tesis"
  },
  "language_info": {
   "codemirror_mode": {
    "name": "ipython",
    "version": 3
   },
   "file_extension": ".py",
   "mimetype": "text/x-python",
   "name": "python",
   "nbconvert_exporter": "python",
   "pygments_lexer": "ipython3",
   "version": "3.7.4"
  }
 },
 "nbformat": 4,
 "nbformat_minor": 4
}
