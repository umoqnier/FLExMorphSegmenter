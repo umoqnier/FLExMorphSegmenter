{
 "cells": [
  {
   "cell_type": "code",
   "execution_count": null,
   "metadata": {},
   "outputs": [],
   "source": [
    "%matplotlib inline\n",
    "import matplotlib.pyplot as plt\n",
    "from utils import get_corpus, WordsToLetter, extractFeatures\n",
    "from pprint import pprint\n",
    "from functools import reduce\n",
    "\n",
    "original_corpus = get_corpus('corpus_otomi_mod')\n",
    "hard_corpus = get_corpus('corpus_hard')\n",
    "\n"
   ]
  },
  {
   "cell_type": "code",
   "execution_count": null,
   "metadata": {},
   "outputs": [],
   "source": [
    "original_corpus[43]"
   ]
  },
  {
   "cell_type": "code",
   "execution_count": null,
   "metadata": {},
   "outputs": [],
   "source": [
    "WordsToLetter(original_corpus)[43]"
   ]
  },
  {
   "cell_type": "code",
   "execution_count": null,
   "metadata": {
    "scrolled": true
   },
   "outputs": [],
   "source": [
    "extractFeatures(WordsToLetter(original_corpus)[43])"
   ]
  },
  {
   "cell_type": "code",
   "execution_count": null,
   "metadata": {
    "scrolled": true
   },
   "outputs": [],
   "source": [
    "extractFeatures(WordsToLetter(original_corpus)[43])"
   ]
  },
  {
   "cell_type": "code",
   "execution_count": null,
   "metadata": {},
   "outputs": [],
   "source": [
    "# Funciones auxiliares\n",
    "\n",
    "def count_occurrence(bag, _type):\n",
    "    if _type in bag.keys():\n",
    "        bag[_type] += 1\n",
    "    else:\n",
    "        bag[_type] = 1\n",
    "    return bag\n",
    "\n",
    "def dict_sorter(data):\n",
    "    # Ref https://stackoverflow.com/questions/613183/how-do-i-sort-a-dictionary-by-value\n",
    "    return {k: v for k, v in sorted(data.items(), key=lambda item: item[1], reverse=True)}"
   ]
  },
  {
   "cell_type": "code",
   "execution_count": null,
   "metadata": {},
   "outputs": [],
   "source": [
    "# Funciones que procesan el corpus\n",
    "\n",
    "def get_tokens(corpus):\n",
    "    gloss_tags, pos_tags = dict(), dict()\n",
    "    for frases in corpus:\n",
    "        for frase in frases:\n",
    "            for parte in frase[:-1]:    \n",
    "                gloss_tags = count_occurrence(gloss_tags, parte[1])\n",
    "            pos_tags = count_occurrence(pos_tags, frase[-1])\n",
    "    return dict_sorter(pos_tags), dict_sorter(gloss_tags)\n",
    "\n",
    "def get_bio_tokens(corpus):\n",
    "    bio_tokens = dict()\n",
    "    frases = WordsToLetter(corpus)\n",
    "    for frase in frases:\n",
    "        for letras in frase:\n",
    "            for letra in letras:\n",
    "                bio_tokens = count_occurrence(bio_tokens, letra[-1])  # Only Bio Label\n",
    "    return dict_sorter(bio_tokens)"
   ]
  },
  {
   "cell_type": "code",
   "execution_count": null,
   "metadata": {},
   "outputs": [],
   "source": [
    "# Obteniedo datos del corpus\n",
    "pos, gloss = get_tokens(corpora)\n",
    "bio = get_bio_tokens(corpora)\n",
    "\n",
    "pos_types = pos.keys()\n",
    "gloss_types = gloss.keys()\n",
    "bio_types = bio.keys()"
   ]
  },
  {
   "cell_type": "code",
   "execution_count": null,
   "metadata": {},
   "outputs": [],
   "source": [
    "def graph_maker(data, conf):\n",
    "    plt.rcParams['figure.figsize'] = [conf['width'], conf['height']]\n",
    "    plt.grid()\n",
    "    plt.xticks(rotation=90)\n",
    "    plt.yscale('log', basey=2)\n",
    "    plt.xlabel(conf[\"xlabel\"], fontsize=conf[\"fontsize\"])\n",
    "    plt.ylabel(conf[\"ylabel\"], fontsize=conf[\"fontsize\"])\n",
    "    plt.title(conf[\"title\"], fontsize=conf[\"fontsize\"])\n",
    "    plt.tick_params(axis='both', direction='out', length=5, width=5, labelcolor=conf['labelcolor'],\n",
    "                    colors=conf['tickscolor'], grid_color=conf['gridcolor'], grid_alpha=0.5)\n",
    "    if conf[\"limit\"] >= 1:\n",
    "        plt.plot(list(data.keys())[:conf['limit']], list(data.values())[:conf['limit']], color=conf['color'], linestyle='-.', linewidth=3)\n",
    "    else:\n",
    "        plt.plot(list(data.keys()), list(data.values()), color=conf['color'], linestyle='-.', linewidth=3)\n",
    "    plt.savefig(conf['path'], dpi=300, bbox_inches='tight')\n",
    "    plt.show()"
   ]
  },
  {
   "cell_type": "code",
   "execution_count": null,
   "metadata": {},
   "outputs": [],
   "source": [
    "# Distribución de las etiquetas POS\n",
    "conf = {\"width\": 10, \"height\": 5, \"fontsize\": 16, \"xlabel\": \"Etiquetas POS\", \"ylabel\": \"Frecuencia (log2)\",\n",
    "        \"title\": \"Curva de Zipf (POS)\", \"labelcolor\": '#32127a', \"tickscolor\": '#5d76cb', \"gridcolor\": \"#5d76cb\", \"color\": \"Indigo\",\n",
    "        \"path\": \"latex/img/zipf_pos.png\", \"limit\": -1}\n",
    "\n",
    "graph_maker(pos, conf)"
   ]
  },
  {
   "cell_type": "code",
   "execution_count": null,
   "metadata": {},
   "outputs": [],
   "source": [
    "# Distribución de la glosa\n",
    "conf = {\"width\": 12, \"height\": 5, \"fontsize\": 16, \"xlabel\": \"Etiquetas\", \"ylabel\": \"Frecuencia (log2)\",\n",
    "        \"title\": \"Curva de Zipf (Glosa)\", \"labelcolor\": '#008080', \"tickscolor\": 'teal', \"gridcolor\": \"#7fcc99\", \"color\": \"teal\",\n",
    "        \"path\": \"latex/img/zipf_gloss.png\", \"limit\": 50}\n",
    "\n",
    "graph_maker(gloss, conf)"
   ]
  },
  {
   "cell_type": "code",
   "execution_count": null,
   "metadata": {},
   "outputs": [],
   "source": [
    "# Distribución de las Bio Labels\n",
    "conf = {\"width\": 12, \"height\": 5, \"fontsize\": 16, \"xlabel\": \"Bio Labels\", \"ylabel\": \"Frecuencia (log2)\",\n",
    "        \"title\": \"Curva de Zipf (Bio labels)\", \"labelcolor\": '#da5c00', \"tickscolor\": 'firebrick', \"gridcolor\": \"#da5c00\", \"color\": \"firebrick\",\n",
    "        \"path\": \"latex/img/zipf_bio.png\", \"limit\": 50}\n",
    "\n",
    "graph_maker(bio, conf)"
   ]
  },
  {
   "cell_type": "code",
   "execution_count": null,
   "metadata": {},
   "outputs": [],
   "source": [
    "# Reportando tamaño de tipos y tokens\n",
    "\n",
    "print(\"Frases etiquetadas corpus original:\", len(original_corpus))\n",
    "print(\"Frases etiquetadas corpus retador:\", len(hard_corpus))\n",
    "print(\"Frases etiquetadas totales:\", len(corpora))\n",
    "\n",
    "print(\"Numero de tokens POS:\", reduce(lambda x, y: x + y, pos.values()))\n",
    "print(\"Numero de tipos POS:\", len(pos_types))\n",
    "\n",
    "print(\"Numero de tokens GLOSA:\", reduce(lambda x, y: x + y, gloss.values()))\n",
    "print(\"Numero de tipos GLOSA:\", len(gloss_types))"
   ]
  },
  {
   "cell_type": "code",
   "execution_count": null,
   "metadata": {},
   "outputs": [],
   "source": [
    "def types_to_table(data, columns):\n",
    "    return \"\".join([t + \" \\\\\\\\\\n \" if i % columns == 0 else t + \" & \" for i, t in enumerate(data, start=1)])\n",
    "\n",
    "def tokens_to_table(data, limit=0):\n",
    "    table = \"\"\n",
    "    if limit:\n",
    "        counts = list(data.items())[:limit]\n",
    "    else:\n",
    "        counts = data.items()\n",
    "    for key, count in counts:\n",
    "        table += f\"{key} & {count} \\\\\\\\\\n\"\n",
    "    return table"
   ]
  },
  {
   "cell_type": "code",
   "execution_count": null,
   "metadata": {},
   "outputs": [],
   "source": [
    "# Cuenta de Bio Labels a cuerpo de tabla latex \n",
    "print(tokens_to_table(bio, limit=10))"
   ]
  },
  {
   "cell_type": "code",
   "execution_count": null,
   "metadata": {},
   "outputs": [],
   "source": [
    "# Cuenta de etiquetas POS a cuerpo de tabla latex \n",
    "print(tokens_to_table(pos, limit=10))"
   ]
  },
  {
   "cell_type": "code",
   "execution_count": null,
   "metadata": {},
   "outputs": [],
   "source": [
    "# Cuenta de etiquetas de glosa a cuerpo de tabla latex \n",
    "print(tokens_to_table(gloss, limit=10))"
   ]
  },
  {
   "cell_type": "code",
   "execution_count": null,
   "metadata": {},
   "outputs": [],
   "source": [
    "# Tipos de etiquetas POS a cuerpo de tabla Latex \n",
    "print(types_to_table(pos_types, 4))"
   ]
  },
  {
   "cell_type": "code",
   "execution_count": null,
   "metadata": {},
   "outputs": [],
   "source": [
    "# Tipos de etiquetas de glosa a cuerpo de tabla Latex \n",
    "print(types_to_table(gloss_types, 5))"
   ]
  },
  {
   "cell_type": "code",
   "execution_count": null,
   "metadata": {},
   "outputs": [],
   "source": [
    "# Tipos de etiquetas BIO a cuerpo de tabla Latex \n",
    "print(types_to_table(bio_types, 6))"
   ]
  }
 ],
 "metadata": {
  "kernelspec": {
   "display_name": "Tesis Kernel",
   "language": "python",
   "name": "tesis"
  },
  "language_info": {
   "codemirror_mode": {
    "name": "ipython",
    "version": 3
   },
   "file_extension": ".py",
   "mimetype": "text/x-python",
   "name": "python",
   "nbconvert_exporter": "python",
   "pygments_lexer": "ipython3",
   "version": "3.7.4"
  }
 },
 "nbformat": 4,
 "nbformat_minor": 4
}
