{
 "cells": [
  {
   "cell_type": "markdown",
   "metadata": {},
   "source": [
    "## Ejemplos del HMM Like\n",
    "\n",
    "### Nombre\n",
    "\n",
    "* baseline_HMMLike_zero_50_0_0_k_10.crfsuite\n",
    "\n",
    "### Parametros\n",
    "\n",
    "* l1 = 0\n",
    "* l2 = 0\n",
    "* Precisión = 0.8762\n",
    "* Max_Iter = 50"
   ]
  },
  {
   "cell_type": "code",
   "execution_count": 2,
   "metadata": {},
   "outputs": [],
   "source": [
    "import os\n",
    "import pycrfsuite\n",
    "import sys  \n",
    "import random\n",
    "sys.path.insert(0, '../')\n",
    "from utils import get_corpus, WordsToLetter, extractLabels, extractTokens\n",
    "\n",
    "model = \"baseline_HMMLike_zero_50_0_0_k_10.crfsuite\""
   ]
  },
  {
   "cell_type": "code",
   "execution_count": 3,
   "metadata": {},
   "outputs": [
    {
     "name": "stdout",
     "output_type": "stream",
     "text": [
      "../models/baseline/tsu_baseline_HMMLike_zero_50_0_0_k_10.crfsuite\n"
     ]
    },
    {
     "data": {
      "text/plain": [
       "<contextlib.closing at 0x7f9bac6866d0>"
      ]
     },
     "execution_count": 3,
     "metadata": {},
     "output_type": "execute_result"
    }
   ],
   "source": [
    "model_path = os.path.join(\"../models/baseline\", \"tsu_\" + model)\n",
    "print(model_path)\n",
    "tagger = pycrfsuite.Tagger()\n",
    "# Cargando modelos preentrenados\n",
    "tagger.open(model_path)"
   ]
  },
  {
   "cell_type": "code",
   "execution_count": 4,
   "metadata": {},
   "outputs": [],
   "source": [
    "# Obteniendo corpus para pruebas\n",
    "corpus = get_corpus('corpus_otomi_mod', '../corpora/') + get_corpus('corpus_hard', '../corpora/')\n",
    "letter_corpus = WordsToLetter(corpus)"
   ]
  },
  {
   "cell_type": "code",
   "execution_count": 5,
   "metadata": {},
   "outputs": [],
   "source": [
    "# funciones auxiliares\n",
    "def obtener_palabras(frases):\n",
    "    palabras = []\n",
    "    for frase in frases:\n",
    "        chunks = [palabra[0] for palabra in frase[:-1]]\n",
    "        palabras.append(\"\".join(chunks))\n",
    "    return palabras\n",
    "\n",
    "def reporte(prediction_tags, real_tags, example):\n",
    "    print(\"Letra | Predicción | Real | Es correcto?\")\n",
    "    for prediction, real, letter in zip(prediction_tags, real_tags, extractTokens(example)):\n",
    "        print(f\"{letter} | {prediction} | {real} | {True if prediction == real else False}\")\n",
    "        \n",
    "def accuracy_score(y_test, y_pred):\n",
    "    right, total = 0, 0\n",
    "    for real, prediction in zip(y_test, y_pred):\n",
    "        if real == prediction:\n",
    "            right += 1\n",
    "    return right / len(y_test)"
   ]
  },
  {
   "cell_type": "code",
   "execution_count": 7,
   "metadata": {},
   "outputs": [],
   "source": [
    "def feature_functions_maker(sent):\n",
    "    ''' Reglas que configuran las feature functions para entrenamiento\n",
    "\n",
    "    :param sent: Data as `[[[[[letter, POS, BIO-label],...],words],sents]]`\n",
    "    :type: list\n",
    "    :return: list of words with characters as features list:\n",
    "        [[[[[letterfeatures],POS,BIO-label],letters],words]]\n",
    "    :rtype: list\n",
    "    '''\n",
    "\n",
    "    featurelist = []\n",
    "    senlen = len(sent)\n",
    "    # each word in a sentence\n",
    "    for i in range(senlen):\n",
    "        word = sent[i]\n",
    "        wordlen = len(word)\n",
    "        lettersequence = ''\n",
    "        # each letter in a word\n",
    "        for j in range(wordlen):\n",
    "            letter = word[j][0]\n",
    "            # gathering previous letters\n",
    "            lettersequence += letter\n",
    "            # ignore digits\n",
    "            if not letter.isdigit():\n",
    "                features = [\n",
    "                    'bias',\n",
    "                    'letterLowercase=' + letter.lower(),\n",
    "                ]\n",
    "                \n",
    "                if j >= 1:\n",
    "                    features.append('prevletter=' + lettersequence[j-1:j].lower() + '>')\n",
    "             \n",
    "            # Add encoding for pysrfsuite\n",
    "            featurelist.append([f.encode('utf-8') for f in features])\n",
    "    return featurelist"
   ]
  },
  {
   "cell_type": "markdown",
   "metadata": {},
   "source": [
    "# Los Peores ejemplos"
   ]
  },
  {
   "cell_type": "code",
   "execution_count": 6,
   "metadata": {},
   "outputs": [
    {
     "name": "stdout",
     "output_type": "stream",
     "text": [
      "420 1786\n"
     ]
    }
   ],
   "source": [
    "peores = []\n",
    "prediction_tags = []\n",
    "for i, example in enumerate(letter_corpus):\n",
    "    features = feature_functions_maker(example)\n",
    "    try:\n",
    "        prediction_tags = tagger.tag(features)\n",
    "    except UnicodeDecodeError as e:\n",
    "        # TODO: Revisar que hacer\n",
    "        print(f\"Error generando {e.object} > {e.object.decode}\")\n",
    "        continue     \n",
    "    real_tags = extractLabels(example, 1)\n",
    "    accuracy = accuracy_score(real_tags, prediction_tags)\n",
    "    if accuracy <= 0.8:\n",
    "        peores.append((i, accuracy))\n",
    "peores = sorted(peores, key=lambda t: t[1])\n",
    "print(len(peores), len(letter_corpus))"
   ]
  },
  {
   "cell_type": "code",
   "execution_count": 7,
   "metadata": {},
   "outputs": [
    {
     "name": "stdout",
     "output_type": "stream",
     "text": [
      "--------------------------------------------------\n",
      "Ejemplo 1 de 5 | Frase: \"nuní\" | Precisión: 0.0\n",
      "Letra | Predicción | Real | Es correcto?\n",
      "n | B-stem | B-det.dem | False\n",
      "u | I-stem | I-det.dem | False\n",
      "n | I-stem | I-det.dem | False\n",
      "í | I-stem | I-det.dem | False\n",
      "--------------------------------------------------\n",
      "Ejemplo 2 de 5 | Frase: \"ibé\" | Precisión: 0.0\n",
      "Letra | Predicción | Real | Es correcto?\n",
      "i | I-it | B-3.icp | False\n",
      "b | B-dual.exc | B-stem | False\n",
      "é | I-dual.exc | I-stem | False\n",
      "--------------------------------------------------\n",
      "Ejemplo 3 de 5 | Frase: \"xirembik'íhí\" | Precisión: 0.08333333333333333\n",
      "Letra | Predicción | Real | Es correcto?\n",
      "x | B-stem | B-3.prf | False\n",
      "i | I-stem | I-3.prf | False\n",
      "r | I-stem | B-stem | False\n",
      "e | I-stem | I-stem | True\n",
      "m | B-med | I-stem | False\n",
      "b | B-3.cpl | I-stem | False\n",
      "i | I-3.cpl | I-stem | False\n",
      "k | B-stem | B-3.obj | False\n",
      "' | I-stem | I-3.obj | False\n",
      "í | I-stem | I-3.obj | False\n",
      "h | I-stem | B-pl | False\n",
      "í | I-stem | I-pl | False\n",
      "--------------------------------------------------\n",
      "Ejemplo 4 de 5 | Frase: \"ndrιähmí\" | Precisión: 0.125\n",
      "Letra | Predicción | Real | Es correcto?\n",
      "n | B-stem | B-psd | False\n",
      "d | I-stem | B-1.cnt | False\n",
      "r | I-stem | I-1.cnt | False\n",
      "ι | I-stem | I-1.cnt | False\n",
      "ä | I-stem | B-stem | False\n",
      "h | I-stem | I-stem | True\n",
      "m | I-stem | B-pl | False\n",
      "í | I-stem | I-pl | False\n",
      "--------------------------------------------------\n",
      "Ejemplo 5 de 5 | Frase: \"té griohkíhí\" | Precisión: 0.18181818181818182\n",
      "Letra | Predicción | Real | Es correcto?\n",
      "t | B-stem | B-stem | True\n",
      "é | I-stem | I-stem | True\n",
      "g | B-stem | B-2.cnt | False\n",
      "r | I-stem | I-2.cnt | False\n",
      "i | I-stem | I-2.cnt | False\n",
      "o | I-stem | B-agujerear/v | False\n",
      "h | I-stem | I-agujerear/v | False\n",
      "k | I-stem | I-agujerear/v | False\n",
      "í | I-stem | I-agujerear/v | False\n",
      "h | I-stem | B-pl | False\n",
      "í | I-stem | I-pl | False\n"
     ]
    }
   ],
   "source": [
    "top = peores[:5]\n",
    "for i, data in enumerate(top):\n",
    "    print(\"-\"*50)\n",
    "    index = data[0]\n",
    "    palabras = obtener_palabras(corpus[index])\n",
    "    example = letter_corpus[index]\n",
    "    features = feature_functions_maker(example)\n",
    "    try:\n",
    "        prediction_tags = tagger.tag(features)\n",
    "    except UnicodeDecodeError as e:\n",
    "        print(e.object)\n",
    "        continue\n",
    "    real_tags = extractLabels(example, 1)\n",
    "    print(f\"Ejemplo {i+1} de 5 | Frase: \\\"{' '.join(palabras)}\\\" | Precisión: {data[1]}\")\n",
    "    reporte(prediction_tags, real_tags, example)"
   ]
  },
  {
   "cell_type": "markdown",
   "metadata": {},
   "source": [
    "# Mejores ejemplos\n",
    "\n",
    "Como de esos hay muchos tomaremos 3 al azar"
   ]
  },
  {
   "cell_type": "code",
   "execution_count": 8,
   "metadata": {},
   "outputs": [
    {
     "name": "stdout",
     "output_type": "stream",
     "text": [
      "Ejemplo 1 de 3 | Frase: \"xi'μngi\" | Precisión: 1.0\n",
      "Letra | Predicción | Real | Es correcto?\n",
      "x | B-3.prf | B-3.prf | True\n",
      "i | I-3.prf | I-3.prf | True\n",
      "' | B-stem | B-stem | True\n",
      "μ | I-stem | I-stem | True\n",
      "n | I-stem | I-stem | True\n",
      "g | I-stem | I-stem | True\n",
      "i | I-stem | I-stem | True\n",
      "--------------------------------------------------\n",
      "Ejemplo 2 de 3 | Frase: \"ya xathó ikháyι'\" | Precisión: 1.0\n",
      "Letra | Predicción | Real | Es correcto?\n",
      "y | B-stem | B-stem | True\n",
      "a | I-stem | I-stem | True\n",
      "x | B-stem | B-stem | True\n",
      "a | I-stem | I-stem | True\n",
      "t | I-stem | I-stem | True\n",
      "h | I-stem | I-stem | True\n",
      "ó | I-stem | I-stem | True\n",
      "i | B-3.icp | B-3.icp | True\n",
      "k | B-stem | B-stem | True\n",
      "h | I-stem | I-stem | True\n",
      "á | I-stem | I-stem | True\n",
      "y | B-lim | B-lim | True\n",
      "ι | I-lim | I-lim | True\n",
      "' | I-lim | I-lim | True\n",
      "--------------------------------------------------\n",
      "Ejemplo 3 de 3 | Frase: \"bidú bimot'í\" | Precisión: 1.0\n",
      "Letra | Predicción | Real | Es correcto?\n",
      "b | B-3.cpl | B-3.cpl | True\n",
      "i | I-3.cpl | I-3.cpl | True\n",
      "d | B-stem | B-stem | True\n",
      "ú | I-stem | I-stem | True\n",
      "b | B-3.cpl | B-3.cpl | True\n",
      "i | I-3.cpl | I-3.cpl | True\n",
      "m | B-stem | B-stem | True\n",
      "o | I-stem | I-stem | True\n",
      "t | I-stem | I-stem | True\n",
      "' | I-stem | I-stem | True\n",
      "í | I-stem | I-stem | True\n",
      "--------------------------------------------------\n"
     ]
    }
   ],
   "source": [
    "flag = 0\n",
    "while flag != 3:\n",
    "    index = random.randint(0, len(letter_corpus))\n",
    "    palabras = obtener_palabras(corpus[index])\n",
    "    example = letter_corpus[index]\n",
    "    features = feature_functions_maker(example)\n",
    "    prediction_tags = tagger.tag(features)\n",
    "    real_tags = extractLabels(example, 1)\n",
    "    accuracy = accuracy_score(real_tags, prediction_tags)\n",
    "    if accuracy >= 0.99:\n",
    "        print(f\"Ejemplo {flag + 1} de 3 | Frase: \\\"{' '.join(palabras)}\\\" | Precisión: {accuracy}\")\n",
    "        reporte(prediction_tags, real_tags, example)\n",
    "        flag += 1\n",
    "        print(\"-\"*50)"
   ]
  },
  {
   "cell_type": "code",
   "execution_count": 14,
   "metadata": {},
   "outputs": [
    {
     "name": "stdout",
     "output_type": "stream",
     "text": [
      "[([\"bi'μngí\", 'yι', 'mbμhí', 'nge', 'hín', 'dímáné', 'gwaporá', 'nge', 'dímádáhní'], 1.0, 1), ([\"kamánk'ι\", \"t'μ\", 'tsusiathó', 'yι', 'dáhtúhí'], 1.0, 52), (['komo', 'beinte', 'o', 'treinta', 'pero', 'despwés', 'xo', 'binkhμtsí'], 1.0, 56)]\n"
     ]
    }
   ],
   "source": [
    "# Obteniendo las frases mas largas y mejor etiquetadas\n",
    "min_len = 30\n",
    "phrases = []\n",
    "for i, example in enumerate(letter_corpus):\n",
    "    features = feature_functions_maker(example)\n",
    "    palabras = obtener_palabras(corpus[i])\n",
    "    prediction_tags = tagger.tag(features)\n",
    "    real_tags = extractLabels(example, 1)\n",
    "    accuracy = accuracy_score(real_tags, prediction_tags)\n",
    "    if accuracy >= 0.99:\n",
    "        phrase = \" \".join(palabras)\n",
    "        if len(phrase) >= min_len:\n",
    "            phrases.append((palabras, accuracy, i))\n",
    "print(phrases[:3])"
   ]
  },
  {
   "cell_type": "code",
   "execution_count": 10,
   "metadata": {},
   "outputs": [
    {
     "data": {
      "text/plain": [
       "[[['b', 'v', 'B-3.cpl'],\n",
       "  ['i', 'v', 'I-3.cpl'],\n",
       "  [\"'\", 'v', 'B-stem'],\n",
       "  ['μ', 'v', 'I-stem'],\n",
       "  ['n', 'v', 'I-stem'],\n",
       "  ['g', 'v', 'B-1.obj'],\n",
       "  ['í', 'v', 'I-1.obj']],\n",
       " [['y', 'det', 'B-det.pl'], ['ι', 'det', 'I-det.pl']],\n",
       " [['m', 'obl', 'B-stem'],\n",
       "  ['b', 'obl', 'I-stem'],\n",
       "  ['μ', 'obl', 'I-stem'],\n",
       "  ['h', 'obl', 'I-stem'],\n",
       "  ['í', 'obl', 'I-stem']],\n",
       " [['n', 'cnj', 'B-stem'], ['g', 'cnj', 'I-stem'], ['e', 'cnj', 'I-stem']],\n",
       " [['h', 'neg', 'B-stem'], ['í', 'neg', 'I-stem'], ['n', 'neg', 'I-stem']],\n",
       " [['d', 'v', 'B-1.icp'],\n",
       "  ['í', 'v', 'I-1.icp'],\n",
       "  ['m', 'v', 'B-ctrf'],\n",
       "  ['á', 'v', 'I-ctrf'],\n",
       "  ['n', 'v', 'B-stem'],\n",
       "  ['é', 'v', 'I-stem']],\n",
       " [['g', 'v', 'B-1.icp.irr'],\n",
       "  ['w', 'v', 'I-1.icp.irr'],\n",
       "  ['a', 'v', 'I-1.icp.irr'],\n",
       "  ['p', 'v', 'B-stem'],\n",
       "  ['o', 'v', 'I-stem'],\n",
       "  ['r', 'v', 'I-stem'],\n",
       "  ['á', 'v', 'I-stem']],\n",
       " [['n', 'cnj', 'B-stem'], ['g', 'cnj', 'I-stem'], ['e', 'cnj', 'I-stem']],\n",
       " [['d', 'v', 'B-1.icp'],\n",
       "  ['í', 'v', 'I-1.icp'],\n",
       "  ['m', 'v', 'B-ctrf'],\n",
       "  ['á', 'v', 'I-ctrf'],\n",
       "  ['d', 'v', 'B-stem'],\n",
       "  ['á', 'v', 'I-stem'],\n",
       "  ['h', 'v', 'I-stem'],\n",
       "  ['n', 'v', 'I-stem'],\n",
       "  ['í', 'v', 'I-stem']]]"
      ]
     },
     "execution_count": 10,
     "metadata": {},
     "output_type": "execute_result"
    }
   ],
   "source": [
    "letter_corpus[1]"
   ]
  },
  {
   "cell_type": "code",
   "execution_count": 12,
   "metadata": {},
   "outputs": [
    {
     "name": "stdout",
     "output_type": "stream",
     "text": [
      "Frase:  bi'μngí yι mbμhí nge hín dímáné gwaporá nge dímádáhní\n",
      "[[['bi', '3.cpl'], [\"'μn\", 'stem'], ['gí', '1.obj'], 'v'], [['yι', 'det.pl'], 'det'], [['mbμhí', 'stem'], 'obl'], [['nge', 'stem'], 'cnj'], [['hín', 'stem'], 'neg'], [['dí', '1.icp'], ['má', 'ctrf'], ['né', 'stem'], 'v'], [['gwa', '1.icp.irr'], ['porá', 'stem'], 'v'], [['nge', 'stem'], 'cnj'], [['dí', '1.icp'], ['má', 'ctrf'], ['dáhní', 'stem'], 'v']]\n",
      "Frase:  kamánk'ι t'μ tsusiathó yι dáhtúhí\n",
      "[[['ka', '3.pls'], ['má', 'ctrf'], [\"nk'ι\", 'stem'], 'v'], [[\"t'μ\", 'stem'], 'obl'], [['tsusia', 'stem'], ['thó', 'ila'], 'v'], [['yι', 'det.pl'], 'det'], [['dáhtú', 'stem'], ['hí', 'pl'], 'unkwn']]\n",
      "Frase:  komo beinte o treinta pero despwés xo binkhμtsí\n",
      "[[['komo', 'stem'], 'obl'], [['beinte', 'stem'], 'obl'], [['o', 'stem'], 'obl'], [['treinta', 'stem'], 'obl'], [['pero', 'stem'], 'obl'], [['despwés', 'stem'], 'obl'], [['xo', 'stem'], 'cnj'], [['bi', '3.cpl'], ['nkhμtsí', 'stem'], 'v']]\n",
      "Frase:  xo mitahá rι ntsoyι mitá sínko pesos rι béhñι dos sinkwenta\n",
      "[[['xo', 'stem'], 'cnj'], [['m', 'psd'], ['i', '3.icp'], ['tahá', 'stem'], 'v'], [['rι', 'det'], 'det'], [['ntsoyι', 'stem'], 'obl'], [['m', 'psd'], ['i', '3.icp'], ['tá', 'stem'], 'v'], [['sínko', 'stem'], 'obl'], [['pesos', 'stem'], 'obl'], [['rι', 'det'], 'det'], [['béhñι', 'stem'], 'obl'], [['dos', 'stem'], 'obl'], [['sinkwenta', 'stem'], 'obl']]\n",
      "Frase:  milástima porke asta xayi dizí\n",
      "[[['m', 'psd'], ['i', '3.icp'], ['lástima', 'stem'], 'v'], [['porke', 'stem'], 'cnj'], [['asta', 'stem'], 'cnj'], [['xayi', 'stem'], 'obl'], [['di', '3.icp.irr'], ['zí', 'stem'], 'v']]\n",
      "Frase:  pero phä nι rι óra nι rι tiempo dapohó\n",
      "[[['pero', 'stem'], 'obl'], [['phä', 'stem'], 'v'], [['nι', 'stem'], 'dem'], [['rι', 'det'], 'det'], [['óra', 'stem'], 'obl'], [['nι', 'stem'], 'dem'], [['rι', 'det'], 'det'], [['tiempo', 'stem'], 'obl'], [['da', '3.pot'], ['pohó', 'stem'], 'v']]\n",
      "Frase:  nuyι khóngi ndóndo rι tiempo yι nι rι órayι'\n",
      "[[['nuyι', 'stem'], 'obl'], [['khóngi', 'stem'], 'obl'], [['ndóndo', 'stem'], 'obl'], [['rι', 'det'], 'det'], [['tiempo', 'stem'], 'obl'], [['yι', 'det.pl'], 'det'], [['nι', 'stem'], 'dem'], [['rι', 'det'], 'det'], [['óra', 'stem'], [\"yι'\", 'lim'], 'unkwn']]\n",
      "Frase:  puro trábáhó bale beintisínko pesos\n",
      "[[['puro', 'stem'], 'obl'], [['trábáhó', 'stem'], 'obl'], [['bale', 'stem'], 'obl'], [['beintisínko', 'stem'], 'obl'], [['pesos', 'stem'], 'obl']]\n",
      "Frase:  xungú sólo k'ι mikhá k'ι hä xo rι ntsítsí\n",
      "[[['xungú', 'stem'], 'dec'], [['sólo', 'stem'], 'obl'], [[\"k'ι\", 'stem'], 'dem'], [['m', 'psd'], ['i', '3.icp'], ['khá', 'stem'], 'v'], [[\"k'ι\", 'stem'], 'dem'], [['hä', 'stem'], 'obl'], [['xo', 'stem'], 'cnj'], [['rι', 'det'], 'det'], [['ntsítsí', 'stem'], 'obl']]\n",
      "Frase:  hitsu xayi tsá dónúhí k'ι porke mbrιñoní\n",
      "[[['hitsu', 'stem'], 'obl'], [['xayi', 'stem'], 'obl'], [['tsá', 'stem'], 'v'], [['dó', '1.cpl'], ['nú', 'stem'], ['hí', 'pl'], 'v'], [[\"k'ι\", 'stem'], 'dem'], [['porke', 'stem'], 'cnj'], [['m', 'psd'], ['b', 'lig'], ['rι', '3.cnt'], ['ñoní', 'stem'], 'v']]\n"
     ]
    }
   ],
   "source": [
    "for phrase in phrases[:10]:\n",
    "    print(\"Frase: \", \" \".join(phrase[0]))\n",
    "    print(corpus[phrase[2]])"
   ]
  },
  {
   "cell_type": "code",
   "execution_count": 15,
   "metadata": {},
   "outputs": [],
   "source": [
    "import csv\n",
    "\n",
    "with open(\"mejores-frases-HMMLike.csv\", \"w\") as csvfile:\n",
    "    header = [\"frase\", \"glosa\", 'accuracy-score']\n",
    "    writer = csv.writer(csvfile)\n",
    "    writer.writerow(header)\n",
    "    for phrase in phrases:\n",
    "        writer.writerow([\" \".join(phrase[0]), corpus[phrase[2]], str(phrase[1])])"
   ]
  },
  {
   "cell_type": "code",
   "execution_count": 12,
   "metadata": {},
   "outputs": [
    {
     "name": "stdout",
     "output_type": "stream",
     "text": [
      "[(['nι', \"k'ι\", 'té', 'gítsí', 'gímá', 'tantsμhní'], 0.4, 414), (['gótú', 'riáste', 'ripetrólio', 'rixábo', 'rinιni', 'i', 'gothó', 'tantsμhní'], 0.44680851063829785, 416), (['así', 'ke', 'xo', 'gítónthóhnι', 'rι', 'dó', 'ya'], 0.4583333333333333, 944)]\n"
     ]
    }
   ],
   "source": [
    "# Obteniendo las frases mas largas y peor etiquetadas\n",
    "min_len = 30\n",
    "phrases = []\n",
    "for i, example in enumerate(letter_corpus):\n",
    "    features = feature_functions_maker(example)\n",
    "    palabras = obtener_palabras(corpus[i])\n",
    "    prediction_tags = tagger.tag(features)\n",
    "    real_tags = extractLabels(example, 1)\n",
    "    accuracy = accuracy_score(real_tags, prediction_tags)\n",
    "    if accuracy <= 0.50:\n",
    "        phrase = \" \".join(palabras)\n",
    "        if len(phrase) >= min_len:\n",
    "            phrases.append((palabras, accuracy, i))\n",
    "print(phrases[:3])"
   ]
  },
  {
   "cell_type": "code",
   "execution_count": 13,
   "metadata": {},
   "outputs": [],
   "source": [
    "import csv\n",
    "\n",
    "with open(\"peores-frases-HMMLike.csv\", \"w\") as csvfile:\n",
    "    header = [\"frase\", \"glosa\", 'accuracy-score']\n",
    "    writer = csv.writer(csvfile)\n",
    "    writer.writerow(header)\n",
    "    for phrase in phrases:\n",
    "        writer.writerow([\" \".join(phrase[0]), corpus[phrase[2]], str(phrase[1])])"
   ]
  },
  {
   "cell_type": "code",
   "execution_count": null,
   "metadata": {},
   "outputs": [],
   "source": []
  }
 ],
 "metadata": {
  "kernelspec": {
   "display_name": "Tesis Kernel",
   "language": "python",
   "name": "tesis"
  },
  "language_info": {
   "codemirror_mode": {
    "name": "ipython",
    "version": 3
   },
   "file_extension": ".py",
   "mimetype": "text/x-python",
   "name": "python",
   "nbconvert_exporter": "python",
   "pygments_lexer": "ipython3",
   "version": "3.7.4"
  }
 },
 "nbformat": 4,
 "nbformat_minor": 4
}
