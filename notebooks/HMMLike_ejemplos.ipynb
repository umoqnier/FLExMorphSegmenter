{
 "cells": [
  {
   "cell_type": "markdown",
   "metadata": {},
   "source": [
    "## Ejemplos del HMM Like\n",
    "\n",
    "### Nombre\n",
    "\n",
    "* baseline_HMMLike_zero_50_0_0_k_10.crfsuite\n",
    "\n",
    "### Parametros\n",
    "\n",
    "* l1 = 0\n",
    "* l2 = 0\n",
    "* Precisión = 0.8762\n",
    "* Max_Iter = 50"
   ]
  },
  {
   "cell_type": "code",
   "execution_count": 1,
   "metadata": {},
   "outputs": [],
   "source": [
    "import os\n",
    "import pycrfsuite\n",
    "import sys  \n",
    "import random\n",
    "sys.path.insert(0, '../')\n",
    "from utils import get_corpus, WordsToLetter, extractLabels, extractTokens\n",
    "\n",
    "model = \"baseline_HMMLike_zero_50_0_0_k_10.crfsuite\""
   ]
  },
  {
   "cell_type": "code",
   "execution_count": 2,
   "metadata": {},
   "outputs": [
    {
     "name": "stdout",
     "output_type": "stream",
     "text": [
      "../models/baseline/tsu_baseline_HMMLike_zero_50_0_0_k_10.crfsuite\n"
     ]
    },
    {
     "data": {
      "text/plain": [
       "<contextlib.closing at 0x7fe723f97590>"
      ]
     },
     "execution_count": 2,
     "metadata": {},
     "output_type": "execute_result"
    }
   ],
   "source": [
    "model_path = os.path.join(\"../models/baseline\", \"tsu_\" + model)\n",
    "print(model_path)\n",
    "tagger = pycrfsuite.Tagger()\n",
    "# Cargando modelos preentrenados\n",
    "tagger.open(model_path)"
   ]
  },
  {
   "cell_type": "code",
   "execution_count": 3,
   "metadata": {},
   "outputs": [],
   "source": [
    "# Obteniendo corpus para pruebas\n",
    "corpus = get_corpus('corpus_otomi_mod', '../corpora/') + get_corpus('corpus_hard', '../corpora/')\n",
    "letter_corpus = WordsToLetter(corpus)"
   ]
  },
  {
   "cell_type": "code",
   "execution_count": 4,
   "metadata": {},
   "outputs": [],
   "source": [
    "# funciones auxiliares\n",
    "def obtener_palabras(frases):\n",
    "    palabras = []\n",
    "    for frase in frases:\n",
    "        chunks = [palabra[0] for palabra in frase[:-1]]\n",
    "        palabras.append(\"\".join(chunks))\n",
    "    return palabras\n",
    "\n",
    "def reporte(prediction_tags, real_tags, example):\n",
    "    print(\"Letra | Predicción | Real | Es correcto?\")\n",
    "    for prediction, real, letter in zip(prediction_tags, real_tags, extractTokens(example)):\n",
    "        print(f\"{letter} | {prediction} | {real} | {True if prediction == real else False}\")\n",
    "        \n",
    "def accuracy_score(y_test, y_pred):\n",
    "    right, total = 0, 0\n",
    "    for real, prediction in zip(y_test, y_pred):\n",
    "        if real == prediction:\n",
    "            right += 1\n",
    "    return right / len(y_test)"
   ]
  },
  {
   "cell_type": "code",
   "execution_count": 5,
   "metadata": {},
   "outputs": [],
   "source": [
    "def feature_functions_maker(sent):\n",
    "    ''' Reglas que configuran las feature functions para entrenamiento\n",
    "\n",
    "    :param sent: Data as `[[[[[letter, POS, BIO-label],...],words],sents]]`\n",
    "    :type: list\n",
    "    :return: list of words with characters as features list:\n",
    "        [[[[[letterfeatures],POS,BIO-label],letters],words]]\n",
    "    :rtype: list\n",
    "    '''\n",
    "\n",
    "    featurelist = []\n",
    "    senlen = len(sent)\n",
    "    # each word in a sentence\n",
    "    for i in range(senlen):\n",
    "        word = sent[i]\n",
    "        wordlen = len(word)\n",
    "        lettersequence = ''\n",
    "        # each letter in a word\n",
    "        for j in range(wordlen):\n",
    "            letter = word[j][0]\n",
    "            # gathering previous letters\n",
    "            lettersequence += letter\n",
    "            # ignore digits\n",
    "            if not letter.isdigit():\n",
    "                features = [\n",
    "                    'bias',\n",
    "                    'letterLowercase=' + letter.lower(),\n",
    "                ]\n",
    "                \n",
    "                if j >= 1:\n",
    "                    features.append('prevletter=' + lettersequence[j-1:j].lower() + '>')\n",
    "             \n",
    "            # Add encoding for pysrfsuite\n",
    "            featurelist.append([f.encode('utf-8') for f in features])\n",
    "    return featurelist"
   ]
  },
  {
   "cell_type": "markdown",
   "metadata": {},
   "source": [
    "# Los Peores ejemplos"
   ]
  },
  {
   "cell_type": "code",
   "execution_count": 6,
   "metadata": {},
   "outputs": [
    {
     "name": "stdout",
     "output_type": "stream",
     "text": [
      "420 1786\n"
     ]
    }
   ],
   "source": [
    "peores = []\n",
    "prediction_tags = []\n",
    "for i, example in enumerate(letter_corpus):\n",
    "    features = feature_functions_maker(example)\n",
    "    try:\n",
    "        prediction_tags = tagger.tag(features)\n",
    "    except UnicodeDecodeError as e:\n",
    "        # TODO: Revisar que hacer\n",
    "        print(f\"Error generando {e.object} > {e.object.decode}\")\n",
    "        continue     \n",
    "    real_tags = extractLabels(example, 1)\n",
    "    accuracy = accuracy_score(real_tags, prediction_tags)\n",
    "    if accuracy <= 0.8:\n",
    "        peores.append((i, accuracy))\n",
    "peores = sorted(peores, key=lambda t: t[1])\n",
    "print(len(peores), len(letter_corpus))"
   ]
  },
  {
   "cell_type": "code",
   "execution_count": 7,
   "metadata": {},
   "outputs": [
    {
     "name": "stdout",
     "output_type": "stream",
     "text": [
      "--------------------------------------------------\n",
      "Ejemplo 1 de 5 | Frase: \"nuní\" | Precisión: 0.0\n",
      "Letra | Predicción | Real | Es correcto?\n",
      "n | B-stem | B-det.dem | False\n",
      "u | I-stem | I-det.dem | False\n",
      "n | I-stem | I-det.dem | False\n",
      "í | I-stem | I-det.dem | False\n",
      "--------------------------------------------------\n",
      "Ejemplo 2 de 5 | Frase: \"ibé\" | Precisión: 0.0\n",
      "Letra | Predicción | Real | Es correcto?\n",
      "i | I-it | B-3.icp | False\n",
      "b | B-dual.exc | B-stem | False\n",
      "é | I-dual.exc | I-stem | False\n",
      "--------------------------------------------------\n",
      "Ejemplo 3 de 5 | Frase: \"xirembik'íhí\" | Precisión: 0.08333333333333333\n",
      "Letra | Predicción | Real | Es correcto?\n",
      "x | B-stem | B-3.prf | False\n",
      "i | I-stem | I-3.prf | False\n",
      "r | I-stem | B-stem | False\n",
      "e | I-stem | I-stem | True\n",
      "m | B-med | I-stem | False\n",
      "b | B-3.cpl | I-stem | False\n",
      "i | I-3.cpl | I-stem | False\n",
      "k | B-stem | B-3.obj | False\n",
      "' | I-stem | I-3.obj | False\n",
      "í | I-stem | I-3.obj | False\n",
      "h | I-stem | B-pl | False\n",
      "í | I-stem | I-pl | False\n",
      "--------------------------------------------------\n",
      "Ejemplo 4 de 5 | Frase: \"ndrιähmí\" | Precisión: 0.125\n",
      "Letra | Predicción | Real | Es correcto?\n",
      "n | B-stem | B-psd | False\n",
      "d | I-stem | B-1.cnt | False\n",
      "r | I-stem | I-1.cnt | False\n",
      "ι | I-stem | I-1.cnt | False\n",
      "ä | I-stem | B-stem | False\n",
      "h | I-stem | I-stem | True\n",
      "m | I-stem | B-pl | False\n",
      "í | I-stem | I-pl | False\n",
      "--------------------------------------------------\n",
      "Ejemplo 5 de 5 | Frase: \"té griohkíhí\" | Precisión: 0.18181818181818182\n",
      "Letra | Predicción | Real | Es correcto?\n",
      "t | B-stem | B-stem | True\n",
      "é | I-stem | I-stem | True\n",
      "g | B-stem | B-2.cnt | False\n",
      "r | I-stem | I-2.cnt | False\n",
      "i | I-stem | I-2.cnt | False\n",
      "o | I-stem | B-agujerear/v | False\n",
      "h | I-stem | I-agujerear/v | False\n",
      "k | I-stem | I-agujerear/v | False\n",
      "í | I-stem | I-agujerear/v | False\n",
      "h | I-stem | B-pl | False\n",
      "í | I-stem | I-pl | False\n"
     ]
    }
   ],
   "source": [
    "top = peores[:5]\n",
    "for i, data in enumerate(top):\n",
    "    print(\"-\"*50)\n",
    "    index = data[0]\n",
    "    palabras = obtener_palabras(corpus[index])\n",
    "    example = letter_corpus[index]\n",
    "    features = feature_functions_maker(example)\n",
    "    try:\n",
    "        prediction_tags = tagger.tag(features)\n",
    "    except UnicodeDecodeError as e:\n",
    "        print(e.object)\n",
    "        continue\n",
    "    real_tags = extractLabels(example, 1)\n",
    "    print(f\"Ejemplo {i+1} de 5 | Frase: \\\"{' '.join(palabras)}\\\" | Precisión: {data[1]}\")\n",
    "    reporte(prediction_tags, real_tags, example)"
   ]
  },
  {
   "cell_type": "markdown",
   "metadata": {},
   "source": [
    "# Mejores ejemplos\n",
    "\n",
    "Como de esos hay muchos tomaremos 3 al azar"
   ]
  },
  {
   "cell_type": "code",
   "execution_count": 9,
   "metadata": {},
   "outputs": [
    {
     "name": "stdout",
     "output_type": "stream",
     "text": [
      "Ejemplo 1 de 3 | Frase: \"gípíh nι rι bähtsí\" | Precisión: 1.0\n",
      "Letra | Predicción | Real | Es correcto?\n",
      "g | B-2.icp | B-2.icp | True\n",
      "í | I-2.icp | I-2.icp | True\n",
      "p | B-stem | B-stem | True\n",
      "í | I-stem | I-stem | True\n",
      "h | B-lig | B-lig | True\n",
      "n | B-stem | B-stem | True\n",
      "ι | I-stem | I-stem | True\n",
      "r | B-det | B-det | True\n",
      "ι | I-det | I-det | True\n",
      "b | B-stem | B-stem | True\n",
      "ä | I-stem | I-stem | True\n",
      "h | I-stem | I-stem | True\n",
      "t | I-stem | I-stem | True\n",
      "s | I-stem | I-stem | True\n",
      "í | I-stem | I-stem | True\n",
      "--------------------------------------------------\n",
      "Ejemplo 2 de 3 | Frase: \"dótsíbé k'ι rι hmíyι'wi gehña dómábé\" | Precisión: 1.0\n",
      "Letra | Predicción | Real | Es correcto?\n",
      "d | B-1.cpl | B-1.cpl | True\n",
      "ó | I-1.cpl | I-1.cpl | True\n",
      "t | B-stem | B-stem | True\n",
      "s | I-stem | I-stem | True\n",
      "í | I-stem | I-stem | True\n",
      "b | B-dual.exc | B-dual.exc | True\n",
      "é | I-dual.exc | I-dual.exc | True\n",
      "k | B-stem | B-stem | True\n",
      "' | I-stem | I-stem | True\n",
      "ι | I-stem | I-stem | True\n",
      "r | B-det | B-det | True\n",
      "ι | I-det | I-det | True\n",
      "h | B-stem | B-stem | True\n",
      "m | I-stem | I-stem | True\n",
      "í | I-stem | I-stem | True\n",
      "y | B-lim | B-lim | True\n",
      "ι | I-lim | I-lim | True\n",
      "' | I-lim | I-lim | True\n",
      "w | B-prag | B-prag | True\n",
      "i | I-prag | I-prag | True\n",
      "g | B-stem | B-stem | True\n",
      "e | I-stem | I-stem | True\n",
      "h | I-stem | I-stem | True\n",
      "ñ | I-stem | I-stem | True\n",
      "a | I-stem | I-stem | True\n",
      "d | B-1.cpl | B-1.cpl | True\n",
      "ó | I-1.cpl | I-1.cpl | True\n",
      "m | B-stem | B-stem | True\n",
      "á | I-stem | I-stem | True\n",
      "b | B-dual.exc | B-dual.exc | True\n",
      "é | I-dual.exc | I-dual.exc | True\n",
      "--------------------------------------------------\n",
      "Ejemplo 3 de 3 | Frase: \"rι k'äníyι'wi gok'axiyι'wi\" | Precisión: 1.0\n",
      "Letra | Predicción | Real | Es correcto?\n",
      "r | B-det | B-det | True\n",
      "ι | I-det | I-det | True\n",
      "k | B-stem | B-stem | True\n",
      "' | I-stem | I-stem | True\n",
      "ä | I-stem | I-stem | True\n",
      "n | I-stem | I-stem | True\n",
      "í | I-stem | I-stem | True\n",
      "y | B-lim | B-lim | True\n",
      "ι | I-lim | I-lim | True\n",
      "' | I-lim | I-lim | True\n",
      "w | B-prag | B-prag | True\n",
      "i | I-prag | I-prag | True\n",
      "g | B-1.pot | B-1.pot | True\n",
      "o | I-1.pot | I-1.pot | True\n",
      "k | B-stem | B-stem | True\n",
      "' | I-stem | I-stem | True\n",
      "a | I-stem | I-stem | True\n",
      "x | I-stem | I-stem | True\n",
      "i | I-stem | I-stem | True\n",
      "y | B-lim | B-lim | True\n",
      "ι | I-lim | I-lim | True\n",
      "' | I-lim | I-lim | True\n",
      "w | B-prag | B-prag | True\n",
      "i | I-prag | I-prag | True\n",
      "--------------------------------------------------\n"
     ]
    }
   ],
   "source": [
    "flag = 0\n",
    "while flag != 3:\n",
    "    index = random.randint(0, len(letter_corpus))\n",
    "    palabras = obtener_palabras(corpus[index])\n",
    "    example = letter_corpus[index]\n",
    "    features = feature_functions_maker(example)\n",
    "    prediction_tags = tagger.tag(features)\n",
    "    real_tags = extractLabels(example, 1)\n",
    "    accuracy = accuracy_score(real_tags, prediction_tags)\n",
    "    if accuracy >= 0.99:\n",
    "        print(f\"Ejemplo {flag + 1} de 3 | Frase: \\\"{' '.join(palabras)}\\\" | Precisión: {accuracy}\")\n",
    "        reporte(prediction_tags, real_tags, example)\n",
    "        flag += 1\n",
    "        print(\"-\"*50)"
   ]
  },
  {
   "cell_type": "code",
   "execution_count": null,
   "metadata": {},
   "outputs": [],
   "source": []
  }
 ],
 "metadata": {
  "kernelspec": {
   "display_name": "Tesis Kernel",
   "language": "python",
   "name": "tesis"
  },
  "language_info": {
   "codemirror_mode": {
    "name": "ipython",
    "version": 3
   },
   "file_extension": ".py",
   "mimetype": "text/x-python",
   "name": "python",
   "nbconvert_exporter": "python",
   "pygments_lexer": "ipython3",
   "version": "3.7.4"
  }
 },
 "nbformat": 4,
 "nbformat_minor": 4
}
