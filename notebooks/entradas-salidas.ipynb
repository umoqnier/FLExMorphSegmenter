{
 "cells": [
  {
   "cell_type": "markdown",
   "metadata": {},
   "source": [
    "# Entradas y salidas del pipeline\n",
    "\n",
    "Cuaderno para generar las entradas y salidas del pipeline para el glosador automatico del otomí de Toluca"
   ]
  },
  {
   "cell_type": "code",
   "execution_count": 1,
   "metadata": {},
   "outputs": [],
   "source": [
    "# Up one folder for local modules issues\n",
    "import sys\n",
    "sys.path.insert(0, '../')\n",
    "import pickle\n",
    "import os\n",
    "from utils import (get_corpus, extractLabels, extractFeatures, sent2features,\n",
    "                   sent2labels, WordsToLetter)"
   ]
  },
  {
   "cell_type": "code",
   "execution_count": 2,
   "metadata": {},
   "outputs": [],
   "source": [
    "def get_preinput_data():\n",
    "    corpus_mod = get_corpus('corpus_otomi_mod', '../corpora/')\n",
    "    corpus_hard = get_corpus('corpus_otomi_hard', '../corpora/')\n",
    "    corpora = corpus_mod + corpus_hard\n",
    "    pre_data = WordsToLetter(corpora)\n",
    "    return corpus_mod, corpus_hard, corpora, pre_data\n",
    "\n",
    "def write_data(data, file_name):\n",
    "    objects_dir = \"pickle_objects/\"\n",
    "    path = os.path.join(objects_dir, file_name)\n",
    "    with open(path, 'wb') as f:\n",
    "        pickle.dump(data, f)\n",
    "    return 0"
   ]
  },
  {
   "cell_type": "code",
   "execution_count": 3,
   "metadata": {},
   "outputs": [],
   "source": [
    "# Getting corpus, corpora and preprocess data\n",
    "base, hard, corpora, predata = get_preinput_data()\n",
    "# Getting feature functions\n",
    "X_inputs = sent2features(predata)\n",
    "# Getting BIO Labels\n",
    "y_inputs = sent2labels(predata)"
   ]
  },
  {
   "cell_type": "code",
   "execution_count": 4,
   "metadata": {},
   "outputs": [
    {
     "name": "stdout",
     "output_type": "stream",
     "text": [
      "1769 1769\n"
     ]
    }
   ],
   "source": [
    "print(len(X_inputs), len(y_inputs))"
   ]
  },
  {
   "cell_type": "code",
   "execution_count": 5,
   "metadata": {
    "scrolled": true
   },
   "outputs": [
    {
     "name": "stdout",
     "output_type": "stream",
     "text": [
      "Feature:  [b'bias', b\"letterLowercase='\", b'EOS', b'BOW', b'nxtletter=<\\xc3\\xa1', b'nxt2letters=<\\xc3\\xa1b', b'nxt3letters=<\\xc3\\xa1bi', b'nxt4letters=<\\xc3\\xa1bim']\n",
      "BIO Label: b'B-como'\n",
      "******************************\n",
      "Feature:  [b'bias', b'letterLowercase=\\xc3\\xa1', b'EOS', b'letterposition=-7', b\"prevletter='>\", b'nxtletter=<b', b'nxt2letters=<bi', b'nxt3letters=<bim', b'nxt4letters=<bim\\xc3\\xa1']\n",
      "BIO Label: b'I-como'\n",
      "******************************\n",
      "Feature:  [b'bias', b'letterLowercase=b', b'EOS', b'letterposition=-6', b\"prev2letters='\\xc3\\xa1>\", b'prevletter=\\xc3\\xa1>', b'nxtletter=<i', b'nxt2letters=<im', b'nxt3letters=<im\\xc3\\xa1', b'nxt4letters=<im\\xc3\\xa1k']\n",
      "BIO Label: b'B-3.cpl'\n",
      "******************************\n",
      "Feature:  [b'bias', b'letterLowercase=i', b'EOS', b'letterposition=-5', b\"prev3letters='\\xc3\\xa1b>\", b'prev2letters=\\xc3\\xa1b>', b'prevletter=b>', b'nxtletter=<m', b'nxt2letters=<m\\xc3\\xa1', b'nxt3letters=<m\\xc3\\xa1k', b'nxt4letters=<m\\xc3\\xa1kh']\n",
      "BIO Label: b'I-3.cpl'\n",
      "******************************\n",
      "Feature:  [b'bias', b'letterLowercase=m', b'EOS', b'letterposition=-4', b\"prev4letters='\\xc3\\xa1bi>\", b'prev3letters=\\xc3\\xa1bi>', b'prev2letters=bi>', b'prevletter=i>', b'nxtletter=<\\xc3\\xa1', b'nxt2letters=<\\xc3\\xa1k', b'nxt3letters=<\\xc3\\xa1kh', b'nxt4letters=<\\xc3\\xa1kh\\xc3\\xa1']\n",
      "BIO Label: b'B-ctrf'\n",
      "******************************\n",
      "Feature:  [b'bias', b'letterLowercase=\\xc3\\xa1', b'EOS', b'letterposition=-3', b'prev4letters=\\xc3\\xa1bim>', b'prev3letters=bim>', b'prev2letters=im>', b'prevletter=m>', b'nxtletter=<k', b'nxt2letters=<kh', b'nxt3letters=<kh\\xc3\\xa1']\n",
      "BIO Label: b'I-ctrf'\n",
      "******************************\n",
      "Feature:  [b'bias', b'letterLowercase=k', b'EOS', b'letterposition=-2', b'prev4letters=bim\\xc3\\xa1>', b'prev3letters=im\\xc3\\xa1>', b'prev2letters=m\\xc3\\xa1>', b'prevletter=\\xc3\\xa1>', b'nxtletter=<h', b'nxt2letters=<h\\xc3\\xa1']\n",
      "BIO Label: b'B-stem'\n",
      "******************************\n",
      "Feature:  [b'bias', b'letterLowercase=h', b'EOS', b'letterposition=-1', b'prev4letters=im\\xc3\\xa1k>', b'prev3letters=m\\xc3\\xa1k>', b'prev2letters=\\xc3\\xa1k>', b'prevletter=k>', b'nxtletter=<\\xc3\\xa1']\n",
      "BIO Label: b'I-stem'\n",
      "******************************\n",
      "Feature:  [b'bias', b'letterLowercase=\\xc3\\xa1', b'EOS', b'EOW', b'prev4letters=m\\xc3\\xa1kh>', b'prev3letters=\\xc3\\xa1kh>', b'prev2letters=kh>', b'prevletter=h>']\n",
      "BIO Label: b'I-stem'\n",
      "******************************\n"
     ]
    }
   ],
   "source": [
    "# Print feature function - Bio Label pairs from first example\n",
    "for feature, label in zip(X_inputs[0], y_inputs[0]):\n",
    "    print(\"Feature: \", feature)\n",
    "    print(\"BIO Label:\", label)\n",
    "    print(\"*\"* 30)"
   ]
  },
  {
   "cell_type": "markdown",
   "metadata": {},
   "source": [
    "Para entrenar un modelo se necesitan ejecutar las siguientes lineas:\n",
    "\n",
    "```python\n",
    "X_input = sent2features(predata)\n",
    "y_input = sent2labels(predata)\n",
    "\n",
    "trainer = pycrfsuite.Trainer(verbose=verbose)\n",
    "\n",
    "for xseq, yseq in zip(X_input, y_input):\n",
    "    trainer.append(xseq, yseq)\n",
    "\n",
    "trainer.set_params({\n",
    "        'c1': hyper['L1'],  # coefficient for L1 penalty\n",
    "        'c2': hyper['L2'],  # coefficient for L2 penalty\n",
    "        'max_iterations': hyper['max-iter']  # early stopping\n",
    "    })\n",
    "trainer.Train(output_path)\n",
    "```"
   ]
  },
  {
   "cell_type": "markdown",
   "metadata": {},
   "source": [
    "## Escribiendo los objectos de entrada en disco"
   ]
  },
  {
   "cell_type": "code",
   "execution_count": 6,
   "metadata": {},
   "outputs": [
    {
     "data": {
      "text/plain": [
       "0"
      ]
     },
     "execution_count": 6,
     "metadata": {},
     "output_type": "execute_result"
    }
   ],
   "source": [
    "# Corpus Otomi Base\n",
    "write_data(base, 'corpus_base')\n",
    "# Corpus Otomi Retador\n",
    "write_data(hard, 'corpus_hard')\n",
    "# Corpora = Corpus base + Corpus retador\n",
    "write_data(corpora, 'corpora')\n",
    "# Datos preprocesados en listas del estilo [[[[[letter, POS, BIO-label],...], palabras],oraciones]]\n",
    "# Preparadas para grear feature funtions \n",
    "write_data(predata, 'predata')\n",
    "# Feature functions de entrada a los CRF\n",
    "write_data(X_inputs, 'X_input')\n",
    "# BIO labels asociadas a cada feature function\n",
    "write_data(y_inputs, 'y_input')"
   ]
  },
  {
   "cell_type": "markdown",
   "metadata": {},
   "source": [
    "## Cargando modelos preentrenados para generar glosa (TODO)"
   ]
  },
  {
   "cell_type": "code",
   "execution_count": null,
   "metadata": {},
   "outputs": [],
   "source": []
  }
 ],
 "metadata": {
  "kernelspec": {
   "display_name": "Python 3",
   "language": "python",
   "name": "python3"
  },
  "language_info": {
   "codemirror_mode": {
    "name": "ipython",
    "version": 3
   },
   "file_extension": ".py",
   "mimetype": "text/x-python",
   "name": "python",
   "nbconvert_exporter": "python",
   "pygments_lexer": "ipython3",
   "version": "3.9.1"
  }
 },
 "nbformat": 4,
 "nbformat_minor": 4
}
