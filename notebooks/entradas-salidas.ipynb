{
 "cells": [
  {
   "cell_type": "markdown",
   "metadata": {},
   "source": [
    "# Entrasdas y salidas del pipeline\n",
    "\n",
    "## Obteniendo las entradas"
   ]
  },
  {
   "cell_type": "code",
   "execution_count": 1,
   "metadata": {},
   "outputs": [],
   "source": [
    "# Up one folder for local modules issues\n",
    "import sys\n",
    "sys.path.insert(0, '../')\n",
    "import pickle\n",
    "from utils import (get_corpus, extractLabels, extractFeatures, sent2features,\n",
    "                   sent2labels, WordsToLetter)"
   ]
  },
  {
   "cell_type": "code",
   "execution_count": 2,
   "metadata": {},
   "outputs": [],
   "source": [
    "def get_preinput_data():\n",
    "    corpus_mod = get_corpus('corpus_otomi_mod', '../corpora/')\n",
    "    corpus_hard = get_corpus('corpus_hard', '../corpora/')\n",
    "    corpora = corpus_mod + corpus_hard\n",
    "    pre_data = WordsToLetter(corpora)\n",
    "    return corpus_mod, corpus_hard, corpora, pre_data\n",
    "\n",
    "def write_data(data, file_name):\n",
    "    base_path = \"pickle_objects/\"\n",
    "    with open(base_path + file_name, 'wb') as f:\n",
    "        pickle.dump(data, f)\n",
    "    return 0"
   ]
  },
  {
   "cell_type": "code",
   "execution_count": 3,
   "metadata": {},
   "outputs": [],
   "source": [
    "# Getting corpus, corpora and preprocess data\n",
    "base, hard, corpora, predata = get_preinput_data()\n",
    "# Getting feature functions\n",
    "X_inputs = sent2features(predata)\n",
    "# Getting BIO Labels\n",
    "y_inputs = sent2labels(predata)"
   ]
  },
  {
   "cell_type": "code",
   "execution_count": 4,
   "metadata": {},
   "outputs": [
    {
     "name": "stdout",
     "output_type": "stream",
     "text": [
      "1786 1786\n"
     ]
    }
   ],
   "source": [
    "print(len(X_inputs), len(y_inputs))"
   ]
  },
  {
   "cell_type": "code",
   "execution_count": 5,
   "metadata": {
    "scrolled": true
   },
   "outputs": [
    {
     "name": "stdout",
     "output_type": "stream",
     "text": [
      "Feature:  [b'bias', b'letterLowercase=n', b'BOS', b'BOW', b'nxtletter=<d', b'nxt2letters=<d\\xc3\\xb3', b'nxt3letters=<d\\xc3\\xb3p', b'nxt4letters=<d\\xc3\\xb3ph']\n",
      "BIO Label: b'B-psd'\n",
      "******************************\n",
      "Feature:  [b'bias', b'letterLowercase=d', b'BOS', b'letterposition=-6', b'prevletter=n>', b'nxtletter=<\\xc3\\xb3', b'nxt2letters=<\\xc3\\xb3p', b'nxt3letters=<\\xc3\\xb3ph', b'nxt4letters=<\\xc3\\xb3ph\\xce\\xbc']\n",
      "BIO Label: b'B-1.cpl'\n",
      "******************************\n",
      "Feature:  [b'bias', b'letterLowercase=\\xc3\\xb3', b'BOS', b'letterposition=-5', b'prev2letters=nd>', b'prevletter=d>', b'nxtletter=<p', b'nxt2letters=<ph', b'nxt3letters=<ph\\xce\\xbc', b'nxt4letters=<ph\\xce\\xbcd']\n",
      "BIO Label: b'I-1.cpl'\n",
      "******************************\n",
      "Feature:  [b'bias', b'letterLowercase=p', b'BOS', b'letterposition=-4', b'prev3letters=nd\\xc3\\xb3>', b'prev2letters=d\\xc3\\xb3>', b'prevletter=\\xc3\\xb3>', b'nxtletter=<h', b'nxt2letters=<h\\xce\\xbc', b'nxt3letters=<h\\xce\\xbcd', b'nxt4letters=<h\\xce\\xbcdi']\n",
      "BIO Label: b'B-stem'\n",
      "******************************\n",
      "Feature:  [b'bias', b'letterLowercase=h', b'BOS', b'letterposition=-3', b'prev4letters=nd\\xc3\\xb3p>', b'prev3letters=d\\xc3\\xb3p>', b'prev2letters=\\xc3\\xb3p>', b'prevletter=p>', b'nxtletter=<\\xce\\xbc', b'nxt2letters=<\\xce\\xbcd', b'nxt3letters=<\\xce\\xbcdi']\n",
      "BIO Label: b'I-stem'\n",
      "******************************\n",
      "Feature:  [b'bias', b'letterLowercase=\\xce\\xbc', b'BOS', b'letterposition=-2', b'prev4letters=d\\xc3\\xb3ph>', b'prev3letters=\\xc3\\xb3ph>', b'prev2letters=ph>', b'prevletter=h>', b'nxtletter=<d', b'nxt2letters=<di']\n",
      "BIO Label: b'I-stem'\n",
      "******************************\n",
      "Feature:  [b'bias', b'letterLowercase=d', b'BOS', b'letterposition=-1', b'prev4letters=\\xc3\\xb3ph\\xce\\xbc>', b'prev3letters=ph\\xce\\xbc>', b'prev2letters=h\\xce\\xbc>', b'prevletter=\\xce\\xbc>', b'nxtletter=<i']\n",
      "BIO Label: b'I-stem'\n",
      "******************************\n",
      "Feature:  [b'bias', b'letterLowercase=i', b'BOS', b'EOW', b'prev4letters=ph\\xce\\xbcd>', b'prev3letters=h\\xce\\xbcd>', b'prev2letters=\\xce\\xbcd>', b'prevletter=d>']\n",
      "BIO Label: b'I-stem'\n",
      "******************************\n",
      "Feature:  [b'bias', b'letterLowercase=d', b'BOS', b'prevpostag=v', b'nxtpostag=v', b'BOW', b'nxtletter=<\\xc3\\xb3', b'nxt2letters=<\\xc3\\xb3p', b'nxt3letters=<\\xc3\\xb3p\\xce\\xb5', b'nxt4letters=<\\xc3\\xb3p\\xce\\xb5p']\n",
      "BIO Label: b'B-1.cpl'\n",
      "******************************\n",
      "Feature:  [b'bias', b'letterLowercase=\\xc3\\xb3', b'BOS', b'prevpostag=v', b'nxtpostag=v', b'letterposition=-5', b'prevletter=d>', b'nxtletter=<p', b'nxt2letters=<p\\xce\\xb5', b'nxt3letters=<p\\xce\\xb5p', b'nxt4letters=<p\\xce\\xb5ph']\n",
      "BIO Label: b'I-1.cpl'\n",
      "******************************\n",
      "Feature:  [b'bias', b'letterLowercase=p', b'BOS', b'prevpostag=v', b'nxtpostag=v', b'letterposition=-4', b'prev2letters=d\\xc3\\xb3>', b'prevletter=\\xc3\\xb3>', b'nxtletter=<\\xce\\xb5', b'nxt2letters=<\\xce\\xb5p', b'nxt3letters=<\\xce\\xb5ph', b'nxt4letters=<\\xce\\xb5ph\\xc3\\xad']\n",
      "BIO Label: b'B-stem'\n",
      "******************************\n",
      "Feature:  [b'bias', b'letterLowercase=\\xce\\xb5', b'BOS', b'prevpostag=v', b'nxtpostag=v', b'letterposition=-3', b'prev3letters=d\\xc3\\xb3p>', b'prev2letters=\\xc3\\xb3p>', b'prevletter=p>', b'nxtletter=<p', b'nxt2letters=<ph', b'nxt3letters=<ph\\xc3\\xad']\n",
      "BIO Label: b'I-stem'\n",
      "******************************\n",
      "Feature:  [b'bias', b'letterLowercase=p', b'BOS', b'prevpostag=v', b'nxtpostag=v', b'letterposition=-2', b'prev4letters=d\\xc3\\xb3p\\xce\\xb5>', b'prev3letters=\\xc3\\xb3p\\xce\\xb5>', b'prev2letters=p\\xce\\xb5>', b'prevletter=\\xce\\xb5>', b'nxtletter=<h', b'nxt2letters=<h\\xc3\\xad']\n",
      "BIO Label: b'I-stem'\n",
      "******************************\n",
      "Feature:  [b'bias', b'letterLowercase=h', b'BOS', b'prevpostag=v', b'nxtpostag=v', b'letterposition=-1', b'prev4letters=\\xc3\\xb3p\\xce\\xb5p>', b'prev3letters=p\\xce\\xb5p>', b'prev2letters=\\xce\\xb5p>', b'prevletter=p>', b'nxtletter=<\\xc3\\xad']\n",
      "BIO Label: b'I-stem'\n",
      "******************************\n",
      "Feature:  [b'bias', b'letterLowercase=\\xc3\\xad', b'BOS', b'prevpostag=v', b'nxtpostag=v', b'EOW', b'prev4letters=p\\xce\\xb5ph>', b'prev3letters=\\xce\\xb5ph>', b'prev2letters=ph>', b'prevletter=h>']\n",
      "BIO Label: b'I-stem'\n",
      "******************************\n",
      "Feature:  [b'bias', b'letterLowercase=b', b'BOS', b'prevpostag=v', b'nxtpostag=v', b'BOW', b'nxtletter=<i', b'nxt2letters=<it', b\"nxt3letters=<it'\", b\"nxt4letters=<it'\\xce\\xbc\"]\n",
      "BIO Label: b'B-3.cpl'\n",
      "******************************\n",
      "Feature:  [b'bias', b'letterLowercase=i', b'BOS', b'prevpostag=v', b'nxtpostag=v', b'letterposition=-6', b'prevletter=b>', b'nxtletter=<t', b\"nxt2letters=<t'\", b\"nxt3letters=<t'\\xce\\xbc\", b\"nxt4letters=<t'\\xce\\xbcn\"]\n",
      "BIO Label: b'I-3.cpl'\n",
      "******************************\n",
      "Feature:  [b'bias', b'letterLowercase=t', b'BOS', b'prevpostag=v', b'nxtpostag=v', b'letterposition=-5', b'prev2letters=bi>', b'prevletter=i>', b\"nxtletter=<'\", b\"nxt2letters=<'\\xce\\xbc\", b\"nxt3letters=<'\\xce\\xbcn\", b\"nxt4letters=<'\\xce\\xbcng\"]\n",
      "BIO Label: b'B-lig'\n",
      "******************************\n",
      "Feature:  [b'bias', b\"letterLowercase='\", b'BOS', b'prevpostag=v', b'nxtpostag=v', b'letterposition=-4', b'prev3letters=bit>', b'prev2letters=it>', b'prevletter=t>', b'nxtletter=<\\xce\\xbc', b'nxt2letters=<\\xce\\xbcn', b'nxt3letters=<\\xce\\xbcng', b'nxt4letters=<\\xce\\xbcng\\xc3\\xad']\n",
      "BIO Label: b'B-stem'\n",
      "******************************\n",
      "Feature:  [b'bias', b'letterLowercase=\\xce\\xbc', b'BOS', b'prevpostag=v', b'nxtpostag=v', b'letterposition=-3', b\"prev4letters=bit'>\", b\"prev3letters=it'>\", b\"prev2letters=t'>\", b\"prevletter='>\", b'nxtletter=<n', b'nxt2letters=<ng', b'nxt3letters=<ng\\xc3\\xad']\n",
      "BIO Label: b'I-stem'\n",
      "******************************\n",
      "Feature:  [b'bias', b'letterLowercase=n', b'BOS', b'prevpostag=v', b'nxtpostag=v', b'letterposition=-2', b\"prev4letters=it'\\xce\\xbc>\", b\"prev3letters=t'\\xce\\xbc>\", b\"prev2letters='\\xce\\xbc>\", b'prevletter=\\xce\\xbc>', b'nxtletter=<g', b'nxt2letters=<g\\xc3\\xad']\n",
      "BIO Label: b'I-stem'\n",
      "******************************\n",
      "Feature:  [b'bias', b'letterLowercase=g', b'BOS', b'prevpostag=v', b'nxtpostag=v', b'letterposition=-1', b\"prev4letters=t'\\xce\\xbcn>\", b\"prev3letters='\\xce\\xbcn>\", b'prev2letters=\\xce\\xbcn>', b'prevletter=n>', b'nxtletter=<\\xc3\\xad']\n",
      "BIO Label: b'B-1.obj'\n",
      "******************************\n",
      "Feature:  [b'bias', b'letterLowercase=\\xc3\\xad', b'BOS', b'prevpostag=v', b'nxtpostag=v', b'EOW', b\"prev4letters='\\xce\\xbcng>\", b'prev3letters=\\xce\\xbcng>', b'prev2letters=ng>', b'prevletter=g>']\n",
      "BIO Label: b'I-1.obj'\n",
      "******************************\n",
      "Feature:  [b'bias', b'letterLowercase=b', b'BOS', b'prevpostag=v', b'nxtpostag=obl', b'BOW', b'nxtletter=<i', b'nxt2letters=<im', b'nxt3letters=<im\\xc3\\xa4', b'nxt4letters=<im\\xc3\\xa4h']\n",
      "BIO Label: b'B-3.cpl'\n",
      "******************************\n",
      "Feature:  [b'bias', b'letterLowercase=i', b'BOS', b'prevpostag=v', b'nxtpostag=obl', b'letterposition=-10', b'prevletter=b>', b'nxtletter=<m', b'nxt2letters=<m\\xc3\\xa4', b'nxt3letters=<m\\xc3\\xa4h', b'nxt4letters=<m\\xc3\\xa4ht']\n",
      "BIO Label: b'I-3.cpl'\n",
      "******************************\n",
      "Feature:  [b'bias', b'letterLowercase=m', b'BOS', b'prevpostag=v', b'nxtpostag=obl', b'letterposition=-9', b'prev2letters=bi>', b'prevletter=i>', b'nxtletter=<\\xc3\\xa4', b'nxt2letters=<\\xc3\\xa4h', b'nxt3letters=<\\xc3\\xa4ht', b'nxt4letters=<\\xc3\\xa4htr']\n",
      "BIO Label: b'B-stem'\n",
      "******************************\n",
      "Feature:  [b'bias', b'letterLowercase=\\xc3\\xa4', b'BOS', b'prevpostag=v', b'nxtpostag=obl', b'letterposition=-8', b'prev3letters=bim>', b'prev2letters=im>', b'prevletter=m>', b'nxtletter=<h', b'nxt2letters=<ht', b'nxt3letters=<htr', b'nxt4letters=<htra']\n",
      "BIO Label: b'I-stem'\n",
      "******************************\n",
      "Feature:  [b'bias', b'letterLowercase=h', b'BOS', b'prevpostag=v', b'nxtpostag=obl', b'letterposition=-7', b'prev4letters=bim\\xc3\\xa4>', b'prev3letters=im\\xc3\\xa4>', b'prev2letters=m\\xc3\\xa4>', b'prevletter=\\xc3\\xa4>', b'nxtletter=<t', b'nxt2letters=<tr', b'nxt3letters=<tra', b'nxt4letters=<trat']\n",
      "BIO Label: b'I-stem'\n",
      "******************************\n",
      "Feature:  [b'bias', b'letterLowercase=t', b'BOS', b'prevpostag=v', b'nxtpostag=obl', b'letterposition=-6', b'prev4letters=im\\xc3\\xa4h>', b'prev3letters=m\\xc3\\xa4h>', b'prev2letters=\\xc3\\xa4h>', b'prevletter=h>', b'nxtletter=<r', b'nxt2letters=<ra', b'nxt3letters=<rat', b'nxt4letters=<rat\\xc3\\xa1']\n",
      "BIO Label: b'I-stem'\n",
      "******************************\n",
      "Feature:  [b'bias', b'letterLowercase=r', b'BOS', b'prevpostag=v', b'nxtpostag=obl', b'letterposition=-5', b'prev4letters=m\\xc3\\xa4ht>', b'prev3letters=\\xc3\\xa4ht>', b'prev2letters=ht>', b'prevletter=t>', b'nxtletter=<a', b'nxt2letters=<at', b'nxt3letters=<at\\xc3\\xa1', b'nxt4letters=<at\\xc3\\xa1g']\n",
      "BIO Label: b'I-stem'\n",
      "******************************\n",
      "Feature:  [b'bias', b'letterLowercase=a', b'BOS', b'prevpostag=v', b'nxtpostag=obl', b'letterposition=-4', b'prev4letters=\\xc3\\xa4htr>', b'prev3letters=htr>', b'prev2letters=tr>', b'prevletter=r>', b'nxtletter=<t', b'nxt2letters=<t\\xc3\\xa1', b'nxt3letters=<t\\xc3\\xa1g', b'nxt4letters=<t\\xc3\\xa1g\\xc3\\xad']\n",
      "BIO Label: b'I-stem'\n",
      "******************************\n",
      "Feature:  [b'bias', b'letterLowercase=t', b'BOS', b'prevpostag=v', b'nxtpostag=obl', b'letterposition=-3', b'prev4letters=htra>', b'prev3letters=tra>', b'prev2letters=ra>', b'prevletter=a>', b'nxtletter=<\\xc3\\xa1', b'nxt2letters=<\\xc3\\xa1g', b'nxt3letters=<\\xc3\\xa1g\\xc3\\xad']\n",
      "BIO Label: b'I-stem'\n",
      "******************************\n",
      "Feature:  [b'bias', b'letterLowercase=\\xc3\\xa1', b'BOS', b'prevpostag=v', b'nxtpostag=obl', b'letterposition=-2', b'prev4letters=trat>', b'prev3letters=rat>', b'prev2letters=at>', b'prevletter=t>', b'nxtletter=<g', b'nxt2letters=<g\\xc3\\xad']\n",
      "BIO Label: b'I-stem'\n",
      "******************************\n",
      "Feature:  [b'bias', b'letterLowercase=g', b'BOS', b'prevpostag=v', b'nxtpostag=obl', b'letterposition=-1', b'prev4letters=rat\\xc3\\xa1>', b'prev3letters=at\\xc3\\xa1>', b'prev2letters=t\\xc3\\xa1>', b'prevletter=\\xc3\\xa1>', b'nxtletter=<\\xc3\\xad']\n",
      "BIO Label: b'B-1.obj'\n",
      "******************************\n",
      "Feature:  [b'bias', b'letterLowercase=\\xc3\\xad', b'BOS', b'prevpostag=v', b'nxtpostag=obl', b'EOW', b'prev4letters=at\\xc3\\xa1g>', b'prev3letters=t\\xc3\\xa1g>', b'prev2letters=\\xc3\\xa1g>', b'prevletter=g>']\n",
      "BIO Label: b'I-1.obj'\n",
      "******************************\n",
      "Feature:  [b'bias', b'letterLowercase=k', b'BOS', b'prevpostag=v', b'nxtpostag=obl', b'BOW', b'nxtletter=<o']\n",
      "BIO Label: b'B-stem'\n",
      "******************************\n",
      "Feature:  [b'bias', b'letterLowercase=o', b'BOS', b'prevpostag=v', b'nxtpostag=obl', b'EOW', b'prevletter=k>']\n",
      "BIO Label: b'I-stem'\n",
      "******************************\n",
      "Feature:  [b'bias', b'letterLowercase=c', b'EOS', b'prevpostag=obl', b'BOW', b'nxtletter=<h', b'nxt2letters=<h\\xc3\\xad', b'nxt3letters=<h\\xc3\\xadk', b'nxt4letters=<h\\xc3\\xadk\\xc3\\xb3']\n",
      "BIO Label: b'B-stem'\n",
      "******************************\n",
      "Feature:  [b'bias', b'letterLowercase=h', b'EOS', b'prevpostag=obl', b'letterposition=-6', b'prevletter=c>', b'nxtletter=<\\xc3\\xad', b'nxt2letters=<\\xc3\\xadk', b'nxt3letters=<\\xc3\\xadk\\xc3\\xb3', b'nxt4letters=<\\xc3\\xadk\\xc3\\xb3h']\n",
      "BIO Label: b'I-stem'\n",
      "******************************\n",
      "Feature:  [b'bias', b'letterLowercase=\\xc3\\xad', b'EOS', b'prevpostag=obl', b'letterposition=-5', b'prev2letters=ch>', b'prevletter=h>', b'nxtletter=<k', b'nxt2letters=<k\\xc3\\xb3', b'nxt3letters=<k\\xc3\\xb3h', b'nxt4letters=<k\\xc3\\xb3ht']\n",
      "BIO Label: b'I-stem'\n",
      "******************************\n",
      "Feature:  [b'bias', b'letterLowercase=k', b'EOS', b'prevpostag=obl', b'letterposition=-4', b'prev3letters=ch\\xc3\\xad>', b'prev2letters=h\\xc3\\xad>', b'prevletter=\\xc3\\xad>', b'nxtletter=<\\xc3\\xb3', b'nxt2letters=<\\xc3\\xb3h', b'nxt3letters=<\\xc3\\xb3ht', b'nxt4letters=<\\xc3\\xb3ht\\xc3\\xa9']\n",
      "BIO Label: b'I-stem'\n",
      "******************************\n",
      "Feature:  [b'bias', b'letterLowercase=\\xc3\\xb3', b'EOS', b'prevpostag=obl', b'letterposition=-3', b'prev4letters=ch\\xc3\\xadk>', b'prev3letters=h\\xc3\\xadk>', b'prev2letters=\\xc3\\xadk>', b'prevletter=k>', b'nxtletter=<h', b'nxt2letters=<ht', b'nxt3letters=<ht\\xc3\\xa9']\n",
      "BIO Label: b'I-stem'\n",
      "******************************\n",
      "Feature:  [b'bias', b'letterLowercase=h', b'EOS', b'prevpostag=obl', b'letterposition=-2', b'prev4letters=h\\xc3\\xadk\\xc3\\xb3>', b'prev3letters=\\xc3\\xadk\\xc3\\xb3>', b'prev2letters=k\\xc3\\xb3>', b'prevletter=\\xc3\\xb3>', b'nxtletter=<t', b'nxt2letters=<t\\xc3\\xa9']\n",
      "BIO Label: b'I-stem'\n",
      "******************************\n",
      "Feature:  [b'bias', b'letterLowercase=t', b'EOS', b'prevpostag=obl', b'letterposition=-1', b'prev4letters=\\xc3\\xadk\\xc3\\xb3h>', b'prev3letters=k\\xc3\\xb3h>', b'prev2letters=\\xc3\\xb3h>', b'prevletter=h>', b'nxtletter=<\\xc3\\xa9']\n",
      "BIO Label: b'I-stem'\n",
      "******************************\n",
      "Feature:  [b'bias', b'letterLowercase=\\xc3\\xa9', b'EOS', b'prevpostag=obl', b'EOW', b'prev4letters=k\\xc3\\xb3ht>', b'prev3letters=\\xc3\\xb3ht>', b'prev2letters=ht>', b'prevletter=t>']\n",
      "BIO Label: b'I-stem'\n",
      "******************************\n"
     ]
    }
   ],
   "source": [
    "# Print feature function - Bio Label pairs for first example\n",
    "for feature, label in zip(X_inputs[0], y_inputs[0]):\n",
    "    print(\"Feature: \", feature)\n",
    "    print(\"BIO Label:\", label)\n",
    "    print(\"*\"* 30)"
   ]
  },
  {
   "cell_type": "markdown",
   "metadata": {},
   "source": [
    "Para entrenar un modelo se necesitan ejecutar las siguientes lineas:\n",
    "\n",
    "```python\n",
    "X_input = sent2features(predata)\n",
    "y_input = sent2labels(predata)\n",
    "\n",
    "trainer = pycrfsuite.Trainer(verbose=verbose)\n",
    "\n",
    "for xseq, yseq in zip(X_input, y_input):\n",
    "    trainer.append(xseq, yseq)\n",
    "\n",
    "trainer.set_params({\n",
    "        'c1': hyper['L1'],  # coefficient for L1 penalty\n",
    "        'c2': hyper['L2'],  # coefficient for L2 penalty\n",
    "        'max_iterations': hyper['max-iter']  # early stopping\n",
    "    })\n",
    "trainer.Train(output_path)\n",
    "```"
   ]
  },
  {
   "cell_type": "code",
   "execution_count": 7,
   "metadata": {},
   "outputs": [
    {
     "data": {
      "text/plain": [
       "0"
      ]
     },
     "execution_count": 7,
     "metadata": {},
     "output_type": "execute_result"
    }
   ],
   "source": [
    "write_data(base, 'corpus_base')\n",
    "write_data(hard, 'corpus_hard')\n",
    "write_data(corpora, 'corpora')\n",
    "write_data(predata, 'predata')\n",
    "write_data(X_inputs, 'X_input')\n",
    "write_data(y_inputs, 'y_input')"
   ]
  }
 ],
 "metadata": {
  "kernelspec": {
   "display_name": "Python 3",
   "language": "python",
   "name": "python3"
  },
  "language_info": {
   "codemirror_mode": {
    "name": "ipython",
    "version": 3
   },
   "file_extension": ".py",
   "mimetype": "text/x-python",
   "name": "python",
   "nbconvert_exporter": "python",
   "pygments_lexer": "ipython3",
   "version": "3.9.1"
  }
 },
 "nbformat": 4,
 "nbformat_minor": 4
}
