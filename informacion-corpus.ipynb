{
 "cells": [
  {
   "cell_type": "code",
   "execution_count": 68,
   "metadata": {},
   "outputs": [],
   "source": [
    "from utils import get_corpus, WordsToLetter\n",
    "from pprint import pprint\n",
    "from functools import reduce\n",
    "original_corpus = get_corpus('corpus_otomi_original')\n",
    "hard_corpus = get_corpus('corpus_hard')\n",
    "\n",
    "corpora = original_corpus + hard_corpus"
   ]
  },
  {
   "cell_type": "code",
   "execution_count": 14,
   "metadata": {},
   "outputs": [],
   "source": [
    "# Funciones auxiliares\n",
    "\n",
    "def count_occurrence(bag, _type):\n",
    "    if _type in bag.keys():\n",
    "        bag[_type] += 1\n",
    "    else:\n",
    "        bag[_type] = 1\n",
    "    return bag\n",
    "\n",
    "def dict_sorter(data):\n",
    "    # Ref https://stackoverflow.com/questions/613183/how-do-i-sort-a-dictionary-by-value\n",
    "    return {k: v for k, v in sorted(data.items(), key=lambda item: item[1], reverse=True)}"
   ]
  },
  {
   "cell_type": "code",
   "execution_count": 2,
   "metadata": {},
   "outputs": [],
   "source": [
    "def get_tokens(corpus):\n",
    "    gloss_tags, pos_tags = dict(), dict()\n",
    "    for frases in corpus:\n",
    "        for frase in frases:\n",
    "            for parte in frase[:-1]:    \n",
    "                gloss_tags = count_occurrence(gloss_tags, parte[1])\n",
    "            pos_tags = count_occurrence(pos_tags, frase[-1])\n",
    "    return dict_sorter(pos_tags), dict_sorter(gloss_tags)"
   ]
  },
  {
   "cell_type": "code",
   "execution_count": 25,
   "metadata": {},
   "outputs": [],
   "source": [
    "def get_bio_tokens(corpus):\n",
    "    bio_tokens = dict()\n",
    "    frases = WordsToLetter(corpus)\n",
    "    for frase in frases:\n",
    "        for letras in frase:\n",
    "            for letra in letras:\n",
    "                bio_tokens = count_occurrence(bio_tokens, letra[-1])  # Only Bio Label\n",
    "    return dict_sorter(bio_tokens)"
   ]
  },
  {
   "cell_type": "code",
   "execution_count": 21,
   "metadata": {},
   "outputs": [],
   "source": [
    "def report(data):\n",
    "    for k, i in data.items():\n",
    "        print(k, \"\\t\\t\", i)"
   ]
  },
  {
   "cell_type": "code",
   "execution_count": 94,
   "metadata": {},
   "outputs": [],
   "source": [
    "# Obteniedo datos del corpus\n",
    "pos, gloss = get_tokens(corpora)\n",
    "bio = get_bio_tokens(corpora)\n",
    "\n",
    "pos_types = pos.keys()\n",
    "gloss_types = gloss.keys()\n",
    "bio_types = bio.keys()"
   ]
  },
  {
   "cell_type": "code",
   "execution_count": 67,
   "metadata": {},
   "outputs": [
    {
     "name": "stdout",
     "output_type": "stream",
     "text": [
      "Frases etiquetadas corpus original: 1705\n",
      "Frases etiquetadas corpus retador: 81\n",
      "Frases etiquetadas totales: 1786\n",
      "Numero de tokens POS: 8578\n",
      "Numero de tipos POS: 44\n",
      "Numero de tokens GLOSA: 14477\n",
      "Numero de tipos GLOSA: 112\n"
     ]
    }
   ],
   "source": [
    "# Reportando tamaño de tipos y tokens\n",
    "\n",
    "print(\"Frases etiquetadas corpus original:\", len(original_corpus))\n",
    "print(\"Frases etiquetadas corpus retador:\", len(hard_corpus))\n",
    "print(\"Frases etiquetadas totales:\", len(corpora))\n",
    "\n",
    "print(\"Numero de tokens POS:\", reduce(lambda x, y: x + y, pos.values()))\n",
    "print(\"Numero de tipos POS:\", len(pos_types))\n",
    "\n",
    "print(\"Numero de tokens GLOSA:\", reduce(lambda x, y: x + y, gloss.values()))\n",
    "print(\"Numero de tipos GLOSA:\", len(gloss_types))"
   ]
  },
  {
   "cell_type": "code",
   "execution_count": 88,
   "metadata": {},
   "outputs": [],
   "source": [
    "def types_to_table(data, columns):\n",
    "    return \"\".join([t + \" \\\\\\\\\\n \" if i % columns == 0 else t + \" & \" for i, t in enumerate(data, start=1)])\n",
    "\n",
    "def tokens_to_table(data, limit=0):\n",
    "    table = \"\"\n",
    "    if limit:\n",
    "        counts = list(data.items())[:limit]\n",
    "    else:\n",
    "        counts = data.items()\n",
    "    for key, count in counts:\n",
    "        table += f\"{key} & {count} \\\\\\\\\\n\"\n",
    "    return table"
   ]
  },
  {
   "cell_type": "code",
   "execution_count": 91,
   "metadata": {},
   "outputs": [
    {
     "name": "stdout",
     "output_type": "stream",
     "text": [
      "I-stem & 21934 \\\\\n",
      "B-stem & 7527 \\\\\n",
      "I-det & 1469 \\\\\n",
      "I-lim & 1092 \\\\\n",
      "B-det & 733 \\\\\n",
      "I-det.pl & 553 \\\\\n",
      "I-dem & 485 \\\\\n",
      "B-3.cpl & 450 \\\\\n",
      "I-3.cpl & 450 \\\\\n",
      "B-psd & 418 \\\\\n",
      "\n"
     ]
    }
   ],
   "source": [
    "# Cuenta de Bio Labels a cuerpo de tabla latex \n",
    "print(tokens_to_table(bio, limit=10))"
   ]
  },
  {
   "cell_type": "code",
   "execution_count": 92,
   "metadata": {},
   "outputs": [
    {
     "name": "stdout",
     "output_type": "stream",
     "text": [
      "v & 2596 \\\\\n",
      "obl & 2447 \\\\\n",
      "det & 975 \\\\\n",
      "cnj & 837 \\\\\n",
      "dem & 543 \\\\\n",
      "unkwn & 419 \\\\\n",
      "n & 273 \\\\\n",
      "neg & 178 \\\\\n",
      "p.loc & 81 \\\\\n",
      "prt & 49 \\\\\n",
      "\n"
     ]
    }
   ],
   "source": [
    "# Cuenta de etiquetas POS a cuerpo de tabla latex \n",
    "print(tokens_to_table(pos, limit=10))"
   ]
  },
  {
   "cell_type": "code",
   "execution_count": 93,
   "metadata": {},
   "outputs": [
    {
     "name": "stdout",
     "output_type": "stream",
     "text": [
      "stem & 7527 \\\\\n",
      "det & 733 \\\\\n",
      "3.cpl & 450 \\\\\n",
      "psd & 418 \\\\\n",
      "lim & 374 \\\\\n",
      "prag & 362 \\\\\n",
      "3.icp & 346 \\\\\n",
      "lig & 289 \\\\\n",
      "det.pl & 271 \\\\\n",
      "1.icp & 270 \\\\\n",
      "\n"
     ]
    }
   ],
   "source": [
    "# Cuenta de etiquetas de glosa a cuerpo de tabla latex \n",
    "print(tokens_to_table(gloss, limit=10))"
   ]
  },
  {
   "cell_type": "code",
   "execution_count": 78,
   "metadata": {},
   "outputs": [
    {
     "name": "stdout",
     "output_type": "stream",
     "text": [
      "v & obl & det & cnj & dem \\\\\n",
      " unkwn & n & neg & p.loc & prt \\\\\n",
      " conj.adv & dim & gen & cond & it \\\\\n",
      " lim & aff & loc & pascuala & toluca \\\\\n",
      " chente & dec & conj & chalma & mexico \\\\\n",
      " tapanco & cord & san & cnj.adv & regular/v \\\\\n",
      " adv & juan & andrés & buena.vista & nada.más \\\\\n",
      " zapata & calvario & bautisterio & adj & cristo \\\\\n",
      " emilio & pato & luis & mextepec & \n"
     ]
    }
   ],
   "source": [
    "# Tipos de etiquetas POS a cuerpo de tabla Latex \n",
    "print(types_to_table(pos_types, 5))"
   ]
  },
  {
   "cell_type": "code",
   "execution_count": 79,
   "metadata": {},
   "outputs": [
    {
     "name": "stdout",
     "output_type": "stream",
     "text": [
      "stem & det & 3.cpl & psd & lim & prag & 3.icp \\\\\n",
      " lig & det.pl & 1.icp & 3.pot & ctrf & 1.pot & pl.exc \\\\\n",
      " 1.cpl & dem & 1.pss & dim & pl & 1.obj & ila \\\\\n",
      " 2.icp & 1.prf & 3.cnt & 3.obj & loc & mod & 1.cnt \\\\\n",
      " 3.pls & muy & prt & it & dual.exc & 3.prf & 3.icp.irr \\\\\n",
      " 3.pss & 2.pss & 1.enf & med & dual & p.loc & 2.cnt \\\\\n",
      " 2 & 3.imp & int & neg & 1.icp.irr & 1.cpl.irr & 2.obj \\\\\n",
      " pues & que & aum & 1.pls & y & 2.cpl & toluca \\\\\n",
      " 2.prf & aqui & gen & hasta & com & 2.pot & adj \\\\\n",
      " cuando & cond & como & 3.cpl.irr & 1.sg & encl & por.que \\\\\n",
      " solo & agujerear/v & mientras & 3.sg & uno & 3.pss.pl & spt \\\\\n",
      " mexico & 1.irr & mucho & 2.enf & conj.adv & pueblo & animal.de.dios \\\\\n",
      " caus & tiempo & con & lugar/v & chico & eh & para \\\\\n",
      " comp & prf & dónde & dist & mov & pascuala & 3.irr \\\\\n",
      " loco & coraje & si & det.dem & dcl & nom & chente \\\\\n",
      " vez & rapido & maria & 2.icp.irr & tal.vez & mujer/v & dios \\\\\n",
      " \n"
     ]
    }
   ],
   "source": [
    "# Tipos de etiquetas de glosa a cuerpo de tabla Latex \n",
    "print(types_to_table(gloss_types, 7))"
   ]
  },
  {
   "cell_type": "code",
   "execution_count": 98,
   "metadata": {},
   "outputs": [
    {
     "name": "stdout",
     "output_type": "stream",
     "text": [
      "I-stem & B-stem & I-det & I-lim & B-det & I-det.pl \\\\\n",
      " I-dem & B-3.cpl & I-3.cpl & B-psd & B-lim & I-prag \\\\\n",
      " B-prag & B-3.icp & B-lig & I-dim & B-det.pl & B-1.icp \\\\\n",
      " I-1.icp & I-ila & B-3.pot & I-3.pot & B-ctrf & I-ctrf \\\\\n",
      " B-1.pot & I-1.pot & B-pl.exc & I-pl.exc & B-1.cpl & I-1.cpl \\\\\n",
      " B-dem & I-1.cnt & I-pl & B-1.pss & I-1.pss & I-muy \\\\\n",
      " I-3.cnt & I-loc & B-dim & I-mod & B-pl & B-1.obj \\\\\n",
      " I-1.obj & B-ila & B-2.icp & I-2.icp & B-1.prf & I-1.prf \\\\\n",
      " B-3.cnt & I-prt & I-3.obj & B-3.obj & B-loc & B-mod \\\\\n",
      " B-1.cnt & I-3.pss & B-3.pls & I-3.pls & B-muy & B-prt \\\\\n",
      " I-toluca & B-it & I-it & B-dual.exc & I-dual.exc & B-3.prf \\\\\n",
      " I-3.prf & B-3.icp.irr & I-3.icp.irr & I-2.cnt & B-3.pss & I-3.imp \\\\\n",
      " B-2.pss & I-2.pss & I-neg & I-1.icp.irr & B-1.enf & I-1.enf \\\\\n",
      " B-med & B-dual & I-dual & I-2.obj & I-aum & B-p.loc \\\\\n",
      " I-p.loc & B-2.cnt & B-2 & I-2 & I-int & B-3.imp \\\\\n",
      " B-int & B-neg & B-1.icp.irr & B-1.cpl.irr & I-1.cpl.irr & B-2.obj \\\\\n",
      " I-3.icp & I-gen & I-aqui & B-pues & I-pues & B-que \\\\\n",
      " I-que & B-aum & B-1.pls & I-1.pls & B-y & B-2.cpl \\\\\n",
      " I-2.cpl & I-3.cpl.irr & I-1.sg & I-agujerear/v & I-mientras & B-toluca \\\\\n",
      " B-2.prf & I-2.prf & I-mexico & I-pueblo & I-animal.de.dios & B-aqui \\\\\n",
      " B-gen & B-hasta & I-hasta & I-3.sg & B-com & I-com \\\\\n",
      " I-pascuala & I-solo & I-mucho & I-tiempo & I-cuando & I-chente \\\\\n",
      " I-mujer/v & I-lugar/v & I-chico & I-cond & I-3.pss.pl & I-por.que \\\\\n",
      " I-1.irr & I-maria & B-2.pot & I-2.pot & B-adj & I-adj \\\\\n",
      " B-cuando & B-cond & B-como & I-como & B-3.cpl.irr & B-1.sg \\\\\n",
      " B-encl & I-encl & B-por.que & B-solo & I-loco & I-coraje \\\\\n",
      " B-agujerear/v & I-det.dem & B-mientras & I-con & B-3.sg & I-lig \\\\\n",
      " B-uno & I-uno & B-3.pss.pl & B-spt & I-spt & B-mexico \\\\\n",
      " B-1.irr & B-mucho & I-dcl & B-2.enf & I-2.enf & B-conj.adv \\\\\n",
      " I-vez & I-2.icp.irr & B-pueblo & I-dios & B-animal.de.dios & B-caus \\\\\n",
      " I-caus & B-tiempo & B-con & B-lugar/v & B-chico & B-eh \\\\\n",
      " I-eh & B-para & I-para & B-comp & I-comp & B-prf \\\\\n",
      " I-prf & B-dónde & B-dist & I-dist & B-mov & I-mov \\\\\n",
      " I-med & B-pascuala & B-3.irr & I-3.irr & B-loco & B-coraje \\\\\n",
      " B-si & I-si & I-y & B-det.dem & B-dcl & B-nom \\\\\n",
      " I-nom & B-chente & B-vez & B-rapido & I-rapido & B-maria \\\\\n",
      " B-2.icp.irr & B-tal.vez & I-tal.vez & B-mujer/v & B-dios & \n"
     ]
    }
   ],
   "source": [
    "# Tipos de etiquetas BIO a cuerpo de tabla Latex \n",
    "print(types_to_table(bio_types, 6))"
   ]
  }
 ],
 "metadata": {
  "kernelspec": {
   "display_name": "tesis-kernel",
   "language": "python",
   "name": "tesis-kernel"
  },
  "language_info": {
   "codemirror_mode": {
    "name": "ipython",
    "version": 3
   },
   "file_extension": ".py",
   "mimetype": "text/x-python",
   "name": "python",
   "nbconvert_exporter": "python",
   "pygments_lexer": "ipython3",
   "version": "3.6.10"
  }
 },
 "nbformat": 4,
 "nbformat_minor": 4
}
